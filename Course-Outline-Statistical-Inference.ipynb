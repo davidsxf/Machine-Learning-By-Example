{
 "cells": [
  {
   "cell_type": "markdown",
   "metadata": {},
   "source": [
    "# Statistical Inference\n",
    "Course Outline\n",
    "=============="
   ]
  },
  {
   "cell_type": "markdown",
   "metadata": {},
   "source": [
    "## Chapter 1\n",
    "- Coin tosses and probabilistic events\n",
    "\n",
    "## Chapter 2\n",
    "- From probability to statistical inference\n",
    "\n",
    "## Chapter 3\n",
    "- Roundup of key concepts in statistical inference\n",
    "    - Significance level\n",
    "    - Confidence level\n",
    "    - Confidence interval\n",
    "    \n",
    "## Chapter 4\n",
    "- Diagnostic tests\n",
    "    - Confusion matrix\n",
    "    - Beta\n",
    "    - Selectivity and specificity\n",
    "    - Statistical power\n",
    "    - Effect size\n",
    "    - Measuring success when incidence rates are low: precision and recall\n",
    "    - Practical Predictive Value (PPV)\n",
    "    \n",
    "## Chapter 5\n",
    "- Reading and understanding Ioannidis' article \"Why Most Published Research Findings are False\".\n",
    "\n",
    "## Chapter 6 \n",
    "- Application of concepts to polling design and results (random versus systematic error)\n",
    "- How to distinguish data reporting from data analysis (most reports just tell you the percentage of this or that - which is much less than what you really need to know)"
   ]
  },
  {
   "cell_type": "code",
   "execution_count": null,
   "metadata": {
    "collapsed": true
   },
   "outputs": [],
   "source": []
  }
 ],
 "metadata": {
  "kernelspec": {
   "display_name": "Python [conda root]",
   "language": "python",
   "name": "conda-root-py"
  },
  "language_info": {
   "codemirror_mode": {
    "name": "ipython",
    "version": 2
   },
   "file_extension": ".py",
   "mimetype": "text/x-python",
   "name": "python",
   "nbconvert_exporter": "python",
   "pygments_lexer": "ipython2",
   "version": "2.7.13"
  }
 },
 "nbformat": 4,
 "nbformat_minor": 2
}
