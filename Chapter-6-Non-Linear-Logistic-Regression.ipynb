{
 "cells": [
  {
   "cell_type": "markdown",
   "metadata": {},
   "source": [
    "# Think Like a Machine - Chapter 6\n",
    "Non-Linear Logistic Regression (and Regularization)\n",
    "==============================="
   ]
  },
  {
   "cell_type": "markdown",
   "metadata": {},
   "source": [
    "**ACKNOWLEDGEMENT**\n",
    "\n",
    "**A lot of the code in this notebook is from John D. Wittenauer's notebooks that cover the exercises in Andrew Ng's course on Machine Learning on Coursera. This is mostly Wittenauer's and Ng's work and acknowledged as such. I've also used some code from Sebastian Raschka's book *Python Machine Learning*. **"
   ]
  },
  {
   "cell_type": "markdown",
   "metadata": {},
   "source": [
    "## The Problem\n",
    "You're in charge of Quality Assurance at a semiconductor manufacturing plant. You have the data on a sample of microchips that have each been through two tests. You have the two scores for each microchip in the sample. In addition, based on the scores, you have labels for each microchip on whether it was accepted or rejected. Your goal is to determine if a new microchip that's been tested should be accepted or rejected based on the scores it receives.\n",
    "\n",
    "The structure of this problem is the same as the one we had in the previous chapter. The difference is in the data. Let's take a look at it asap."
   ]
  },
  {
   "cell_type": "code",
   "execution_count": 467,
   "metadata": {
    "collapsed": false
   },
   "outputs": [],
   "source": [
    "# Use the functions from another notebook in this notebook\n",
    "%run SharedFunctions.ipynb"
   ]
  },
  {
   "cell_type": "code",
   "execution_count": 468,
   "metadata": {
    "collapsed": true
   },
   "outputs": [],
   "source": [
    "# Import our usual libraries\n",
    "import numpy as np\n",
    "import pandas as pd\n",
    "import matplotlib.pyplot as plt\n",
    "%matplotlib inline"
   ]
  },
  {
   "cell_type": "markdown",
   "metadata": {},
   "source": [
    "## Load the Data"
   ]
  },
  {
   "cell_type": "code",
   "execution_count": 469,
   "metadata": {
    "collapsed": false
   },
   "outputs": [
    {
     "data": {
      "text/html": [
       "<div>\n",
       "<table border=\"1\" class=\"dataframe\">\n",
       "  <thead>\n",
       "    <tr style=\"text-align: right;\">\n",
       "      <th></th>\n",
       "      <th>Test 1</th>\n",
       "      <th>Test 2</th>\n",
       "      <th>Accepted</th>\n",
       "    </tr>\n",
       "  </thead>\n",
       "  <tbody>\n",
       "    <tr>\n",
       "      <th>0</th>\n",
       "      <td>0.051267</td>\n",
       "      <td>0.69956</td>\n",
       "      <td>1</td>\n",
       "    </tr>\n",
       "    <tr>\n",
       "      <th>1</th>\n",
       "      <td>-0.092742</td>\n",
       "      <td>0.68494</td>\n",
       "      <td>1</td>\n",
       "    </tr>\n",
       "    <tr>\n",
       "      <th>2</th>\n",
       "      <td>-0.213710</td>\n",
       "      <td>0.69225</td>\n",
       "      <td>1</td>\n",
       "    </tr>\n",
       "    <tr>\n",
       "      <th>3</th>\n",
       "      <td>-0.375000</td>\n",
       "      <td>0.50219</td>\n",
       "      <td>1</td>\n",
       "    </tr>\n",
       "    <tr>\n",
       "      <th>4</th>\n",
       "      <td>-0.513250</td>\n",
       "      <td>0.46564</td>\n",
       "      <td>1</td>\n",
       "    </tr>\n",
       "  </tbody>\n",
       "</table>\n",
       "</div>"
      ],
      "text/plain": [
       "     Test 1   Test 2  Accepted\n",
       "0  0.051267  0.69956         1\n",
       "1 -0.092742  0.68494         1\n",
       "2 -0.213710  0.69225         1\n",
       "3 -0.375000  0.50219         1\n",
       "4 -0.513250  0.46564         1"
      ]
     },
     "execution_count": 469,
     "metadata": {},
     "output_type": "execute_result"
    }
   ],
   "source": [
    "import os\n",
    "path = os.getcwd() + '/Data/ex2data2.txt'\n",
    "data2 = pd.read_csv(path, header=None, names=['Test 1', 'Test 2', 'Accepted'])\n",
    "data2.head()"
   ]
  },
  {
   "cell_type": "code",
   "execution_count": 470,
   "metadata": {
    "collapsed": false
   },
   "outputs": [
    {
     "data": {
      "text/plain": [
       "(118, 3)"
      ]
     },
     "execution_count": 470,
     "metadata": {},
     "output_type": "execute_result"
    }
   ],
   "source": [
    "data2.shape"
   ]
  },
  {
   "cell_type": "markdown",
   "metadata": {},
   "source": [
    "We have 118 rows of data in our dataset."
   ]
  },
  {
   "cell_type": "markdown",
   "metadata": {},
   "source": [
    "## Visualize the Data"
   ]
  },
  {
   "cell_type": "code",
   "execution_count": 471,
   "metadata": {
    "collapsed": false
   },
   "outputs": [
    {
     "data": {
      "text/plain": [
       "<matplotlib.text.Text at 0x11d6aeed0>"
      ]
     },
     "execution_count": 471,
     "metadata": {},
     "output_type": "execute_result"
    },
    {
     "data": {
      "image/png": "[encoded data removed]",
      "text/plain": [
       "<matplotlib.figure.Figure at 0x11582ecd0>"
      ]
     },
     "metadata": {},
     "output_type": "display_data"
    }
   ],
   "source": [
    "positive = data2[data2['Accepted'].isin([1])]\n",
    "negative = data2[data2['Accepted'].isin([0])]\n",
    "\n",
    "fig, ax = plt.subplots(figsize=(8,5))\n",
    "ax.scatter(positive['Test 1'], positive['Test 2'], s=30, c='b', marker='x', label='Accepted')\n",
    "ax.scatter(negative['Test 1'], negative['Test 2'], s=30, c='r', marker='s', label='Rejected')\n",
    "ax.legend()\n",
    "ax.set_xlabel('Test 1 Score')\n",
    "ax.set_ylabel('Test 2 Score')\n",
    "ax.set_title('Full Dataset')"
   ]
  },
  {
   "cell_type": "markdown",
   "metadata": {},
   "source": [
    "Notice something immediately? There's no way to draw a line to separate the blue Xes from the red squares. The decision boundary needs to be a curve which means this is a non-linear problem. We're going to \"manufacture\" a number of new features in order to tackle this problem. You'll see that it's not hard to draw non-linear boundaries; but it's much harder to draw a non-linear boundary and still have a useful model with which to make predictions -- predictions about the future, as Yogi Berra would say. Regularization is the technique for making sure that complex models with non-linear decision boundaries can still be useful.\n",
    "\n",
    "Instead of getting ahead of ourselves, let's take this step by step."
   ]
  },
  {
   "cell_type": "markdown",
   "metadata": {},
   "source": [
    "## Steps 1 and 2: Define the Inputs and Outputs by Splitting the Dataset Into Training and Test Datasets\n"
   ]
  },
  {
   "cell_type": "markdown",
   "metadata": {},
   "source": [
    "We'll see why this split makes sense a bit later, but for now, let's split our one dataset into two datasets -- one with 80% of the original data (the Training set) and the other with 20% of the original data (the Test set)."
   ]
  },
  {
   "cell_type": "code",
   "execution_count": 472,
   "metadata": {
    "collapsed": false
   },
   "outputs": [],
   "source": [
    "# Split the data into Training and Test (80-20 split into training and test sets)\n",
    "from sklearn.model_selection import train_test_split\n",
    "X = data2.iloc[:, 0:2].values\n",
    "y = data2.iloc[:, 2].values\n",
    "X_train, X_test, y_train, y_test = train_test_split(X, y, test_size=0.2, random_state=42)"
   ]
  },
  {
   "cell_type": "code",
   "execution_count": 473,
   "metadata": {
    "collapsed": false
   },
   "outputs": [
    {
     "data": {
      "text/plain": [
       "array([[-0.21947  , -0.016813 ],\n",
       "       [-0.38076  ,  0.91886  ],\n",
       "       [-0.51325  ,  0.46564  ],\n",
       "       [ 0.57546  ,  0.26827  ],\n",
       "       [ 0.46601  , -0.53582  ],\n",
       "       [-0.0063364,  0.99927  ],\n",
       "       [ 0.86348  , -0.082602 ],\n",
       "       [ 0.38537  , -0.56506  ],\n",
       "       [-0.50749  ,  0.90424  ],\n",
       "       [ 0.79435  , -0.55775  ],\n",
       "       [-0.17339  ,  0.69956  ],\n",
       "       [-0.72638  , -0.082602 ],\n",
       "       [ 0.52938  , -0.5212   ],\n",
       "       [ 0.28744  ,  1.087    ],\n",
       "       [ 0.64459  , -0.14108  ],\n",
       "       [-0.16187  ,  0.8019   ],\n",
       "       [-0.4038   ,  0.70687  ],\n",
       "       [ 0.051267 ,  0.69956  ],\n",
       "       [ 0.39689  ,  0.82383  ],\n",
       "       [-0.66302  , -0.21418  ],\n",
       "       [ 0.76555  ,  0.50219  ],\n",
       "       [ 0.2932   , -0.2288   ],\n",
       "       [-0.081221 ,  1.1089   ],\n",
       "       [-0.20795  ,  0.35599  ]])"
      ]
     },
     "execution_count": 473,
     "metadata": {},
     "output_type": "execute_result"
    }
   ],
   "source": [
    "X_test"
   ]
  },
  {
   "cell_type": "markdown",
   "metadata": {},
   "source": [
    "### Visualize the Training Data"
   ]
  },
  {
   "cell_type": "code",
   "execution_count": 474,
   "metadata": {
    "collapsed": false
   },
   "outputs": [
    {
     "data": {
      "text/plain": [
       "<matplotlib.text.Text at 0x11d76f5d0>"
      ]
     },
     "execution_count": 474,
     "metadata": {},
     "output_type": "execute_result"
    },
    {
     "data": {
      "image/png": "[encoded data removed]",
      "text/plain": [
       "<matplotlib.figure.Figure at 0x119eebe50>"
      ]
     },
     "metadata": {},
     "output_type": "display_data"
    }
   ],
   "source": [
    "# Bring the training inputs and training outputs together\n",
    "#X_train.shape\n",
    "#y_train.shape\n",
    "training_data = np.c_[X_train, y_train]\n",
    "\n",
    "# Get all inputs that have positive outputs -- i.e., Accepted\n",
    "pos_train_inputs = np.array([tr_d for tr_d in training_data if tr_d[2] == 1])[:,0:2]\n",
    "#pos_train_inputs\n",
    "\n",
    "# Get all the inputs that have negative outputs -- i.e., Rejected\n",
    "neg_train_inputs = np.array([tr_d for tr_d in training_data if tr_d[2] == 0])[:,0:2]\n",
    "#neg_train_inputs\n",
    "\n",
    "fig, ax = plt.subplots(figsize=(8,5))\n",
    "ax.scatter(pos_train_inputs[:,0], pos_train_inputs[:,1], s=30, c='b', marker='x', label='Accepted')\n",
    "ax.scatter(neg_train_inputs[:,0], neg_train_inputs[:,1], s=30, c='r', marker='s', label='Rejected')\n",
    "ax.legend()\n",
    "ax.set_xlabel('Test 1 Score')\n",
    "ax.set_ylabel('Test 2 Score')\n",
    "ax.set_title('Training Dataset')"
   ]
  },
  {
   "cell_type": "markdown",
   "metadata": {},
   "source": [
    "The training dataset looks just like the full dataset -- it just contains fewer data points."
   ]
  },
  {
   "cell_type": "markdown",
   "metadata": {},
   "source": [
    "### Visualize the Test Data"
   ]
  },
  {
   "cell_type": "code",
   "execution_count": 475,
   "metadata": {
    "collapsed": false
   },
   "outputs": [
    {
     "data": {
      "text/plain": [
       "<matplotlib.text.Text at 0x11dd5d1d0>"
      ]
     },
     "execution_count": 475,
     "metadata": {},
     "output_type": "execute_result"
    },
    {
     "data": {
      "image/png": "[encoded data removed]",
      "text/plain": [
       "<matplotlib.figure.Figure at 0x11d748590>"
      ]
     },
     "metadata": {},
     "output_type": "display_data"
    }
   ],
   "source": [
    "# Bring the test inputs and test outputs together\n",
    "#X_test.shape\n",
    "#y_test.shape\n",
    "test_data = np.c_[X_test, y_test]\n",
    "\n",
    "# Get all inputs that have positive outputs -- i.e., Accepted\n",
    "pos_test_inputs = np.array([t_d for t_d in test_data if t_d[2] == 1])[:,0:2]\n",
    "#pos_test_inputs\n",
    "\n",
    "# Get all the inputs that have negative outputs -- i.e., Rejected\n",
    "neg_test_inputs = np.array([t_d for t_d in test_data if t_d[2] == 0])[:,0:2]\n",
    "#neg_test_inputs\n",
    "\n",
    "fig, ax = plt.subplots(figsize=(8,5))\n",
    "ax.scatter(pos_test_inputs[:,0], pos_test_inputs[:,1], s=30, c='b', marker='x', label='Accepted')\n",
    "ax.scatter(neg_test_inputs[:,0], neg_test_inputs[:,1], s=30, c='r', marker='s', label='Rejected')\n",
    "ax.legend()\n",
    "ax.set_xlabel('Test 1 Score')\n",
    "ax.set_ylabel('Test 2 Score')\n",
    "ax.set_title('Test Dataset')"
   ]
  },
  {
   "cell_type": "markdown",
   "metadata": {},
   "source": [
    "The test dataset looks a lot sparser than the full dataset. There's good reason for that which we'll get to later in this chapter."
   ]
  },
  {
   "cell_type": "markdown",
   "metadata": {},
   "source": [
    "## Step 3: Define the Model\n",
    "We only have two inputs -- scores in tests 1 and 2. However, we need a non-linear decision boundary between the microchips that are accepted versus those that are rejected. The only way to do this is to manufacture more features based on the two features we already have.\n",
    "\n",
    "To make a point, we're going to go crazy with the manufacturing of features. In fact, our model will be a sixth-degree polynomial. The image below shows how to systematically construct the factors of an nth-order polynomial.\n",
    "\n",
    "![making a 6-th order polynomial](Images/sixth-order-factors.jpg \"Sixth-Order Factors\")\n",
    "\n",
    "[[WRITE OUT THE MODEL]]"
   ]
  },
  {
   "cell_type": "code",
   "execution_count": 476,
   "metadata": {
    "collapsed": false
   },
   "outputs": [],
   "source": [
    "from sklearn.preprocessing import PolynomialFeatures\n",
    "poly = PolynomialFeatures(6)\n",
    "X_train_poly6 = poly.fit_transform(X_train)\n",
    "X_test_poly6 = poly.fit_transform(X_test)\n",
    "# NOTE: the poly function adds a bias value of 1 to each row of input data -- default include_bias=True"
   ]
  },
  {
   "cell_type": "code",
   "execution_count": 477,
   "metadata": {
    "collapsed": false
   },
   "outputs": [
    {
     "data": {
      "text/plain": [
       "(94, 28)"
      ]
     },
     "execution_count": 477,
     "metadata": {},
     "output_type": "execute_result"
    }
   ],
   "source": [
    "X_train_poly6.shape"
   ]
  },
  {
   "cell_type": "code",
   "execution_count": 478,
   "metadata": {
    "collapsed": false
   },
   "outputs": [
    {
     "data": {
      "text/plain": [
       "(94, 2)"
      ]
     },
     "execution_count": 478,
     "metadata": {},
     "output_type": "execute_result"
    }
   ],
   "source": [
    "X_train.shape"
   ]
  },
  {
   "cell_type": "markdown",
   "metadata": {},
   "source": [
    "We've increased the number of features from 2 to 28 by using a 6th degree polynomial. Let's use logistic regression to solve the problem."
   ]
  },
  {
   "cell_type": "markdown",
   "metadata": {},
   "source": [
    "## Steps 4 - 7: Set Up and Implement the Model"
   ]
  },
  {
   "cell_type": "markdown",
   "metadata": {},
   "source": [
    "We've made the inputs very complicated -- so before we implement a logistic regression algorithm that depends on some form of gradient descent to find its solution, let's normalize our inputs so that the algorithm can operate efficiently."
   ]
  },
  {
   "cell_type": "code",
   "execution_count": 479,
   "metadata": {
    "collapsed": false
   },
   "outputs": [
    {
     "data": {
      "text/plain": [
       "array([  1.00000000e+00,   6.27300000e-01,   1.58630000e-01,\n",
       "         3.93505290e-01,   9.95085990e-02,   2.51634769e-02,\n",
       "         2.46845868e-01,   6.24217442e-02,   1.57850491e-02,\n",
       "         3.99168234e-03,   1.54846413e-01,   3.91571601e-02,\n",
       "         9.90196127e-03,   2.50398233e-03,   6.33200570e-04,\n",
       "         9.71351550e-02,   2.45632865e-02,   6.21150031e-03,\n",
       "         1.57074812e-03,   3.97206717e-04,   1.00444606e-04,\n",
       "         6.09328828e-02,   1.54085496e-02,   3.89647414e-03,\n",
       "         9.85330294e-04,   2.49167774e-04,   6.30089016e-05,\n",
       "         1.59335279e-05])"
      ]
     },
     "execution_count": 479,
     "metadata": {},
     "output_type": "execute_result"
    }
   ],
   "source": [
    "# first row of the training inputs\n",
    "X_train_poly6[0]"
   ]
  },
  {
   "cell_type": "code",
   "execution_count": 480,
   "metadata": {
    "collapsed": false
   },
   "outputs": [
    {
     "data": {
      "text/plain": [
       "LogisticRegression(C=10000, class_weight=None, dual=False, fit_intercept=True,\n",
       "          intercept_scaling=1, max_iter=100, multi_class='ovr', n_jobs=1,\n",
       "          penalty='l2', random_state=None, solver='newton-cg', tol=0.0001,\n",
       "          verbose=0, warm_start=False)"
      ]
     },
     "execution_count": 480,
     "metadata": {},
     "output_type": "execute_result"
    }
   ],
   "source": [
    "# Implement logistic regression using Scikit Learn\n",
    "# Large C means low regularization lambda; Small C means high regularization lambda\n",
    "from sklearn.linear_model import LogisticRegression\n",
    "from sklearn import metrics\n",
    "from sklearn.model_selection import cross_val_score\n",
    "\n",
    "lr = LogisticRegression(solver='newton-cg', C=10000)\n",
    "lr.fit(X_train_poly6, y_train)"
   ]
  },
  {
   "cell_type": "code",
   "execution_count": 481,
   "metadata": {
    "collapsed": false
   },
   "outputs": [
    {
     "data": {
      "text/plain": [
       "0.86170212765957444"
      ]
     },
     "execution_count": 481,
     "metadata": {},
     "output_type": "execute_result"
    }
   ],
   "source": [
    "# Classification accuracy on the training data\n",
    "lr.score(X_train_poly6, y_train)"
   ]
  },
  {
   "cell_type": "code",
   "execution_count": 482,
   "metadata": {
    "collapsed": false
   },
   "outputs": [
    {
     "name": "stdout",
     "output_type": "stream",
     "text": [
      "0.791666666667\n",
      "0.791666666667\n"
     ]
    }
   ],
   "source": [
    "# How did this classifier do on the test data?\n",
    "predicted = lr.predict(X_test_poly6)\n",
    "print metrics.accuracy_score(y_test, predicted)\n",
    "print metrics.roc_auc_score(y_test, predicted)"
   ]
  },
  {
   "cell_type": "code",
   "execution_count": 483,
   "metadata": {
    "collapsed": false
   },
   "outputs": [
    {
     "data": {
      "text/plain": [
       "array([ 2.56045584])"
      ]
     },
     "execution_count": 483,
     "metadata": {},
     "output_type": "execute_result"
    }
   ],
   "source": [
    "lr.intercept_"
   ]
  },
  {
   "cell_type": "code",
   "execution_count": 484,
   "metadata": {
    "collapsed": false
   },
   "outputs": [
    {
     "data": {
      "text/plain": [
       "array([[  0.30886575,  -0.55695528,   1.3268363 , -12.4887436 ,\n",
       "         -7.82652801,   3.36017668,   1.16851908,  29.8610121 ,\n",
       "         14.48806388,  10.54733885,  42.33055754,   4.42352696,\n",
       "         -7.48201067,  -8.14742437, -25.94221129,  10.59686514,\n",
       "        -37.57938855,  22.87060248, -17.28254098, -10.97649732,\n",
       "         -2.35294178, -66.50503289, -11.27307917, -27.72161858,\n",
       "         22.70523796, -37.22761294, -32.11814358,   3.42408937]])"
      ]
     },
     "execution_count": 484,
     "metadata": {},
     "output_type": "execute_result"
    }
   ],
   "source": [
    "# The optimal values of theta\n",
    "lr.coef_"
   ]
  },
  {
   "cell_type": "code",
   "execution_count": 485,
   "metadata": {
    "collapsed": false
   },
   "outputs": [
    {
     "name": "stdout",
     "output_type": "stream",
     "text": [
      "Number of samples: 94\n",
      "lr.coef_ shape: (1, 28)\n",
      "X_train_poly6 shape: (94, 28)\n",
      "Optimal Non-Regularized Cost: 0.63654066984\n",
      "Regularization Term: 0.531914893617\n",
      "Regularized Cost: 1.16845556346\n"
     ]
    }
   ],
   "source": [
    "# Sanity checks\n",
    "m = X_train_poly6.shape[0]\n",
    "print 'Number of samples:', m\n",
    "print 'lr.coef_ shape:', lr.coef_.shape\n",
    "# Multiply the inputs by the coefficients to get the optimal cost\n",
    "print 'X_train_poly6 shape:', X_train_poly6.shape\n",
    "dotProd = sigmoid(np.matrix(X_train_poly6) * np.matrix(lr.coef_).T)\n",
    "cost_first_term = np.multiply(-y_train.reshape(94,1), np.log(dotProd))\n",
    "cost_second_term = np.multiply(np.subtract(1,y_train.reshape(94,1)),np.log(np.subtract(1, dotProd)))\n",
    "non_reg_cost = np.divide(np.sum(np.subtract(cost_first_term, cost_second_term)), m)\n",
    "print 'Optimal Non-Regularized Cost:', non_reg_cost\n",
    "\n",
    "# Regularize the cost\n",
    "Lambda = 100.\n",
    "theta_squared = np.square(lr.coef_)\n",
    "theta_squared[0,0] = 0\n",
    "reg_theta = np.sum(theta_squared)\n",
    "reg_term = np.divide(Lambda,np.multiply(2,m))\n",
    "print 'Regularization Term:', reg_term\n",
    "reg_cost = np.add(non_reg_cost, reg_term)\n",
    "print 'Regularized Cost:', reg_cost"
   ]
  },
  {
   "cell_type": "code",
   "execution_count": 486,
   "metadata": {
    "collapsed": false
   },
   "outputs": [],
   "source": [
    "# Contour plot of the decision boundary\n",
    "# Make grid values\n",
    "xx1, xx2 = np.mgrid[-1:1.5:.02, -1:1.5:.02]"
   ]
  },
  {
   "cell_type": "code",
   "execution_count": 487,
   "metadata": {
    "collapsed": false
   },
   "outputs": [
    {
     "data": {
      "text/plain": [
       "array([[-1.  , -1.  , -1.  , ..., -1.  , -1.  , -1.  ],\n",
       "       [-0.98, -0.98, -0.98, ..., -0.98, -0.98, -0.98],\n",
       "       [-0.96, -0.96, -0.96, ..., -0.96, -0.96, -0.96],\n",
       "       ..., \n",
       "       [ 1.44,  1.44,  1.44, ...,  1.44,  1.44,  1.44],\n",
       "       [ 1.46,  1.46,  1.46, ...,  1.46,  1.46,  1.46],\n",
       "       [ 1.48,  1.48,  1.48, ...,  1.48,  1.48,  1.48]])"
      ]
     },
     "execution_count": 487,
     "metadata": {},
     "output_type": "execute_result"
    }
   ],
   "source": [
    "xx1"
   ]
  },
  {
   "cell_type": "code",
   "execution_count": 488,
   "metadata": {
    "collapsed": false
   },
   "outputs": [
    {
     "data": {
      "text/plain": [
       "array([[-1.  , -0.98, -0.96, ...,  1.44,  1.46,  1.48],\n",
       "       [-1.  , -0.98, -0.96, ...,  1.44,  1.46,  1.48],\n",
       "       [-1.  , -0.98, -0.96, ...,  1.44,  1.46,  1.48],\n",
       "       ..., \n",
       "       [-1.  , -0.98, -0.96, ...,  1.44,  1.46,  1.48],\n",
       "       [-1.  , -0.98, -0.96, ...,  1.44,  1.46,  1.48],\n",
       "       [-1.  , -0.98, -0.96, ...,  1.44,  1.46,  1.48]])"
      ]
     },
     "execution_count": 488,
     "metadata": {},
     "output_type": "execute_result"
    }
   ],
   "source": [
    "xx2"
   ]
  },
  {
   "cell_type": "code",
   "execution_count": 489,
   "metadata": {
    "collapsed": false
   },
   "outputs": [
    {
     "data": {
      "text/plain": [
       "(15625, 2)"
      ]
     },
     "execution_count": 489,
     "metadata": {},
     "output_type": "execute_result"
    }
   ],
   "source": [
    "# Create the grid\n",
    "grid = np.c_[xx1.ravel(), xx2.ravel()]\n",
    "grid.shape"
   ]
  },
  {
   "cell_type": "code",
   "execution_count": 490,
   "metadata": {
    "collapsed": false
   },
   "outputs": [
    {
     "data": {
      "text/plain": [
       "(15625, 2)"
      ]
     },
     "execution_count": 490,
     "metadata": {},
     "output_type": "execute_result"
    }
   ],
   "source": [
    "# Get the probabilities for each grid value\n",
    "# Note: Make sure it's transformed so \n",
    "probs = lr.predict_proba(poly.fit_transform(grid))\n",
    "probs.shape"
   ]
  },
  {
   "cell_type": "code",
   "execution_count": 491,
   "metadata": {
    "collapsed": false
   },
   "outputs": [
    {
     "data": {
      "text/plain": [
       "(15625,)"
      ]
     },
     "execution_count": 491,
     "metadata": {},
     "output_type": "execute_result"
    }
   ],
   "source": [
    "probs_bin = lr.predict(poly.fit_transform(grid))\n",
    "probs_bin.shape"
   ]
  },
  {
   "cell_type": "code",
   "execution_count": 492,
   "metadata": {
    "collapsed": false
   },
   "outputs": [
    {
     "data": {
      "text/plain": [
       "(15625, 2)"
      ]
     },
     "execution_count": 492,
     "metadata": {},
     "output_type": "execute_result"
    }
   ],
   "source": [
    "grid.shape"
   ]
  },
  {
   "cell_type": "code",
   "execution_count": 493,
   "metadata": {
    "collapsed": false
   },
   "outputs": [],
   "source": [
    "probs_to_binary = []\n",
    "for prob in probs:\n",
    "    if prob[1] > 0.5:\n",
    "        probs_to_binary.append(1)\n",
    "    else:\n",
    "        probs_to_binary.append(0)"
   ]
  },
  {
   "cell_type": "code",
   "execution_count": 494,
   "metadata": {
    "collapsed": false
   },
   "outputs": [
    {
     "data": {
      "text/plain": [
       "4237"
      ]
     },
     "execution_count": 494,
     "metadata": {},
     "output_type": "execute_result"
    }
   ],
   "source": [
    "(probs_to_binary != np.zeros(15625)).sum()"
   ]
  },
  {
   "cell_type": "code",
   "execution_count": 495,
   "metadata": {
    "collapsed": false
   },
   "outputs": [
    {
     "data": {
      "text/plain": [
       "<matplotlib.contour.QuadContourSet at 0x11d699fd0>"
      ]
     },
     "execution_count": 495,
     "metadata": {},
     "output_type": "execute_result"
    },
    {
     "data": {
      "image/png": "[encoded data removed]",
      "text/plain": [
       "<matplotlib.figure.Figure at 0x11fb129d0>"
      ]
     },
     "metadata": {},
     "output_type": "display_data"
    }
   ],
   "source": [
    "#plt.contour(xx1,xx2,np.array(probs_to_binary).reshape(xx1.shape))\n",
    "fig, ax = plt.subplots(figsize=(8,5))\n",
    "ax.scatter(pos_test_inputs[:,0], pos_test_inputs[:,1], s=30, c='b', marker='x', label='Accepted')\n",
    "ax.scatter(neg_test_inputs[:,0], neg_test_inputs[:,1], s=30, c='r', marker='s', label='Rejected')\n",
    "ax.legend()\n",
    "ax.set_xlabel('Test 1 Score')\n",
    "ax.set_ylabel('Test 2 Score')\n",
    "ax.set_title('Test Dataset')\n",
    "plt.contour(xx1,xx2,probs_bin.reshape(xx1.shape), colors='y', linewidths=0.5)"
   ]
  },
  {
   "cell_type": "markdown",
   "metadata": {},
   "source": [
    "## Results\n",
    "\n",
    "[[To Come]]"
   ]
  },
  {
   "cell_type": "markdown",
   "metadata": {},
   "source": [
    "# Appendix"
   ]
  },
  {
   "cell_type": "code",
   "execution_count": 496,
   "metadata": {
    "collapsed": false
   },
   "outputs": [
    {
     "data": {
      "text/plain": [
       "[(-5, 5),\n",
       " <matplotlib.text.Text at 0x120e3b310>,\n",
       " (-5, 5),\n",
       " <matplotlib.text.Text at 0x11fe88350>,\n",
       " None]"
      ]
     },
     "execution_count": 496,
     "metadata": {},
     "output_type": "execute_result"
    },
    {
     "data": {
      "image/png": "[encoded data removed]",
      "text/plain": [
       "<matplotlib.figure.Figure at 0x1180df490>"
      ]
     },
     "metadata": {},
     "output_type": "display_data"
    }
   ],
   "source": [
    "import numpy as np\n",
    "from sklearn.linear_model import LogisticRegression\n",
    "from sklearn.datasets import make_classification\n",
    "import matplotlib.pyplot as plt\n",
    "import seaborn as sns\n",
    "sns.set(style=\"white\")\n",
    "\n",
    "X, y = make_classification(200, 2, 2, 0, weights=[.5, .5], random_state=15)\n",
    "clf = LogisticRegression().fit(X[:100], y[:100])\n",
    "\n",
    "xx, yy = np.mgrid[-5:5:.01, -5:5:.01]\n",
    "grid = np.c_[xx.ravel(), yy.ravel()]\n",
    "probs = clf.predict_proba(grid)[:, 1].reshape(xx.shape)\n",
    "\n",
    "f, ax = plt.subplots(figsize=(8, 6))\n",
    "contour = ax.contourf(xx, yy, probs, 25, cmap=\"RdBu\",\n",
    "                      vmin=0, vmax=1)\n",
    "ax_c = f.colorbar(contour)\n",
    "ax_c.set_label(\"$P(y = 1)$\")\n",
    "ax_c.set_ticks([0, .25, .5, .75, 1])\n",
    "\n",
    "ax.scatter(X[100:,0], X[100:, 1], c=y[100:], s=50,\n",
    "           cmap=\"RdBu\", vmin=-.2, vmax=1.2,\n",
    "           edgecolor=\"white\", linewidth=1)\n",
    "\n",
    "ax.set(aspect=\"equal\",\n",
    "       xlim=(-5, 5), ylim=(-5, 5),\n",
    "       xlabel=\"$X_1$\", ylabel=\"$X_2$\")"
   ]
  },
  {
   "cell_type": "code",
   "execution_count": null,
   "metadata": {
    "collapsed": true
   },
   "outputs": [],
   "source": []
  }
 ],
 "metadata": {
  "anaconda-cloud": {},
  "kernelspec": {
   "display_name": "Python [conda root]",
   "language": "python",
   "name": "conda-root-py"
  },
  "language_info": {
   "codemirror_mode": {
    "name": "ipython",
    "version": 2
   },
   "file_extension": ".py",
   "mimetype": "text/x-python",
   "name": "python",
   "nbconvert_exporter": "python",
   "pygments_lexer": "ipython2",
   "version": "2.7.12"
  }
 },
 "nbformat": 4,
 "nbformat_minor": 1
}
