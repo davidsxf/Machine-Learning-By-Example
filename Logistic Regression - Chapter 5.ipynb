{
 "cells": [
  {
   "cell_type": "markdown",
   "metadata": {},
   "source": [
    "# Think Like a Machine - Chapter 5\n",
    "Logistic Regression\n",
    "==================="
   ]
  },
  {
   "cell_type": "markdown",
   "metadata": {},
   "source": [
    "**ACKNOWLEDGEMENT**\n",
    "\n",
    "**A lot of the code in this notebook is from John D. Wittenauer's notebooks that cover the exercises in Andrew Ng's course on Machine Learning on Coursera. This is mostly Wittenauer's and Ng's work and acknowledged as such. I've also used some code from Sebastian Raschka's book *Python Machine Learning*. **"
   ]
  },
  {
   "cell_type": "markdown",
   "metadata": {},
   "source": [
    "## The Problem\n",
    "You're a student applying to an elite university. To be admitted, the university requires you to take 2 entrance exams. The university also publishes a dataset of the scores of students who took both exams and for each student whether he or she was accpeted. Knowing your scores on the two entrance exams, what is your probability of being accepted to this elite university?"
   ]
  },
  {
   "cell_type": "markdown",
   "metadata": {},
   "source": [
    "## Exercise 5-1\n",
    "Create a list of 5 problems that fit the same structure as the problem above. For example, you could be a physician, a recruiter, head of sales, ..."
   ]
  },
  {
   "cell_type": "markdown",
   "metadata": {},
   "source": [
    "## Load the Data"
   ]
  },
  {
   "cell_type": "code",
   "execution_count": 75,
   "metadata": {
    "collapsed": false
   },
   "outputs": [],
   "source": [
    "# Use the functions from another notebook in this notebook\n",
    "%run SharedFunctions.ipynb"
   ]
  },
  {
   "cell_type": "code",
   "execution_count": 57,
   "metadata": {
    "collapsed": false
   },
   "outputs": [],
   "source": [
    "# Import our usual libraries\n",
    "import numpy as np\n",
    "import pandas as pd\n",
    "import matplotlib.pyplot as plt\n",
    "%matplotlib inline"
   ]
  },
  {
   "cell_type": "code",
   "execution_count": 4,
   "metadata": {
    "collapsed": false
   },
   "outputs": [
    {
     "data": {
      "text/html": [
       "<div>\n",
       "<table border=\"1\" class=\"dataframe\">\n",
       "  <thead>\n",
       "    <tr style=\"text-align: right;\">\n",
       "      <th></th>\n",
       "      <th>Exam 1</th>\n",
       "      <th>Exam 2</th>\n",
       "      <th>Admitted</th>\n",
       "    </tr>\n",
       "  </thead>\n",
       "  <tbody>\n",
       "    <tr>\n",
       "      <th>0</th>\n",
       "      <td>34.623660</td>\n",
       "      <td>78.024693</td>\n",
       "      <td>0</td>\n",
       "    </tr>\n",
       "    <tr>\n",
       "      <th>1</th>\n",
       "      <td>30.286711</td>\n",
       "      <td>43.894998</td>\n",
       "      <td>0</td>\n",
       "    </tr>\n",
       "    <tr>\n",
       "      <th>2</th>\n",
       "      <td>35.847409</td>\n",
       "      <td>72.902198</td>\n",
       "      <td>0</td>\n",
       "    </tr>\n",
       "    <tr>\n",
       "      <th>3</th>\n",
       "      <td>60.182599</td>\n",
       "      <td>86.308552</td>\n",
       "      <td>1</td>\n",
       "    </tr>\n",
       "    <tr>\n",
       "      <th>4</th>\n",
       "      <td>79.032736</td>\n",
       "      <td>75.344376</td>\n",
       "      <td>1</td>\n",
       "    </tr>\n",
       "  </tbody>\n",
       "</table>\n",
       "</div>"
      ],
      "text/plain": [
       "      Exam 1     Exam 2  Admitted\n",
       "0  34.623660  78.024693         0\n",
       "1  30.286711  43.894998         0\n",
       "2  35.847409  72.902198         0\n",
       "3  60.182599  86.308552         1\n",
       "4  79.032736  75.344376         1"
      ]
     },
     "execution_count": 4,
     "metadata": {},
     "output_type": "execute_result"
    }
   ],
   "source": [
    "import os\n",
    "path = os.getcwd() + '/Data/ex2data1.txt'\n",
    "data = pd.read_csv(path, header=None, names=['Exam 1', 'Exam 2', 'Admitted'])\n",
    "data.head()"
   ]
  },
  {
   "cell_type": "markdown",
   "metadata": {},
   "source": [
    "## Visualize the Data"
   ]
  },
  {
   "cell_type": "code",
   "execution_count": 141,
   "metadata": {
    "collapsed": false
   },
   "outputs": [
    {
     "data": {
      "text/plain": [
       "<matplotlib.text.Text at 0x14fb31b90>"
      ]
     },
     "execution_count": 141,
     "metadata": {},
     "output_type": "execute_result"
    },
    {
     "data": {
      "image/png": "[encoded data removed]",
      "text/plain": [
       "<matplotlib.figure.Figure at 0x11bc530d0>"
      ]
     },
     "metadata": {},
     "output_type": "display_data"
    }
   ],
   "source": [
    "positive = data[data['Admitted'].isin([1])]\n",
    "negative = data[data['Admitted'].isin([0])]\n",
    "\n",
    "fig, ax = plt.subplots(figsize=(8,5))\n",
    "ax.scatter(positive['Exam 1'], positive['Exam 2'], s=30, c='b', marker='+', label='Admitted')\n",
    "ax.scatter(negative['Exam 1'], negative['Exam 2'], s=30, c='r', marker='s', label='Not Admitted')\n",
    "ax.legend(loc='lower right')\n",
    "ax.set_xlabel('Exam 1 Score')\n",
    "ax.set_ylabel('Exam 2 Score')\n",
    "plt.title('Admission to University Based on Exam Scores')"
   ]
  },
  {
   "cell_type": "markdown",
   "metadata": {},
   "source": [
    "Right away we see that this doesn't even look like a regular regression problem -- there are two classes -- Admitted and Not Admitted -- and we'd like to separate them. We need a technique for learning what class a student falls into based on his or her exam scores.\n",
    "\n",
    "We'll start by trying to draw a line through the plot above that optimally separates the candidates who have been admitted from those who have not been admitted. We'll think like a machine to find the parameter values that define this line. The line is called a *decision boundary* -- depending on which side of the line a point falls, its fate is decided."
   ]
  },
  {
   "cell_type": "code",
   "execution_count": 78,
   "metadata": {
    "collapsed": false
   },
   "outputs": [],
   "source": [
    "# A few examples of decision boundaries\n",
    "#plot_decision_regions(data.iloc[:, 1:3].values, data.iloc[:,3].values, 'ppn')\n",
    "## TO DO"
   ]
  },
  {
   "cell_type": "markdown",
   "metadata": {},
   "source": [
    "Because the output of our classification is not a real number (unlike in regression where it can take on a value within a certain range of numbers), we need a function to take exam scores (or similar inputs) and produce two categories of output (say 0 for Not Admitted, and 1 for Admitted). The way to do this is to use the *sigmoid* function.\n",
    "\n",
    "What the sigmoid function does is take an expression like the one we're familiar with below\n",
    "\n",
    "$$h_{\\theta}(x) = \\theta_{0} x_{0} + \\theta_{1} x_{1} + \\theta_{2} x_{2}$$\n",
    "\n",
    "and convert it to the following expression:\n",
    "\n",
    "$$g(h_{\\theta}(x)) = \\frac{1}{1 + e^{-h_{\\theta}(x)}}$$\n",
    "\n",
    "where $e$ is the natural log. So what does the sigmoid function or sigmoid transformation look like?"
   ]
  },
  {
   "cell_type": "code",
   "execution_count": 7,
   "metadata": {
    "collapsed": true
   },
   "outputs": [],
   "source": [
    "# Define the sigmoid function or transformation\n",
    "# NOTE: ALSO PUT INTO THE SharedFunctions notebook\n",
    "def sigmoid(z):\n",
    "    return 1 / (1 + np.exp(-z))"
   ]
  },
  {
   "cell_type": "code",
   "execution_count": 8,
   "metadata": {
    "collapsed": false
   },
   "outputs": [
    {
     "data": {
      "text/plain": [
       "<bound method AxesSubplot.plot of <matplotlib.axes._subplots.AxesSubplot object at 0x11a9ae450>>"
      ]
     },
     "execution_count": 8,
     "metadata": {},
     "output_type": "execute_result"
    },
    {
     "data": {
      "image/png": "[encoded data removed]",
      "text/plain": [
       "<matplotlib.figure.Figure at 0x11a7bcbd0>"
      ]
     },
     "metadata": {},
     "output_type": "display_data"
    }
   ],
   "source": [
    "# Plot the sigmoid function\n",
    "# Generate the values to be plotted\n",
    "x_vals = np.linspace(-10,10,100)\n",
    "y_vals = [sigmoid(x) for x in x_vals]\n",
    "\n",
    "# Plot the values\n",
    "fig, ax = plt.subplots(figsize=(8,5))\n",
    "ax.plot(x_vals, y_vals, 'blue')\n",
    "# Draw some constant lines to aid visualization\n",
    "plt.axvline(x=0, color='black')\n",
    "plt.axhline(y=0.5, color='black')\n",
    "plt.yticks(np.arange(0,1.1,0.1))\n",
    "plt.xticks(np.arange(-10,11,1))\n",
    "plt.xlabel(r'$h_{\\theta}(x)$', fontsize=15)\n",
    "plt.ylabel(r'$g(h_{\\theta}(x))$', fontsize=15)\n",
    "plt.title('The Sigmoid Transformation')\n",
    "ax.plot"
   ]
  },
  {
   "cell_type": "markdown",
   "metadata": {},
   "source": [
    "The beauty of the sigmoid transoformation is it gives us a way to take a variable with continuous values and transform it into a variable with just two values -- 0 or 1. The sigmoid can never be less than zero; nor can it be greater than 1. When $h_{\\theta}(x)$ is around 6 or greater, the sigmoid is, for all practical purposes, equal to 1. Similarly, when $h_{\\theta}(x)$ is around -6 or smaller, the sigmoid is for all practical purposes 0.\n",
    "\n",
    "Many other functions can do this kind of 1 or 0 transformation -- a simple step function will do. The advantage of using a sigmoid is *the values can be read off as probabilities*."
   ]
  },
  {
   "cell_type": "markdown",
   "metadata": {},
   "source": [
    "## Steps 1 and 2: Define the Inputs and the Output\n",
    "How do we find the line that separates the data? Let's begin by defining the inputs."
   ]
  },
  {
   "cell_type": "code",
   "execution_count": 9,
   "metadata": {
    "collapsed": false
   },
   "outputs": [],
   "source": [
    "# add a ones column to the inputs - this makes the matrix multiplication work out easier\n",
    "data.insert(0, 'Ones', 1)\n",
    "\n",
    "# set X (training data) and y (target variable)\n",
    "cols = data.shape[1]\n",
    "X = data.iloc[:,0:cols-1]\n",
    "y = data.iloc[:,cols-1:cols]\n",
    "\n",
    "# convert to matrices\n",
    "X = np.matrix(X.values)\n",
    "y = np.matrix(y.values)"
   ]
  },
  {
   "cell_type": "code",
   "execution_count": 10,
   "metadata": {
    "collapsed": false
   },
   "outputs": [
    {
     "data": {
      "text/plain": [
       "(100, 3)"
      ]
     },
     "execution_count": 10,
     "metadata": {},
     "output_type": "execute_result"
    }
   ],
   "source": [
    "X.shape"
   ]
  },
  {
   "cell_type": "code",
   "execution_count": 11,
   "metadata": {
    "collapsed": false
   },
   "outputs": [
    {
     "data": {
      "text/plain": [
       "(100, 1)"
      ]
     },
     "execution_count": 11,
     "metadata": {},
     "output_type": "execute_result"
    }
   ],
   "source": [
    "y.shape"
   ]
  },
  {
   "cell_type": "code",
   "execution_count": 12,
   "metadata": {
    "collapsed": false
   },
   "outputs": [
    {
     "data": {
      "text/plain": [
       "matrix([[  1.        ,  34.62365962,  78.02469282],\n",
       "        [  1.        ,  30.28671077,  43.89499752],\n",
       "        [  1.        ,  35.84740877,  72.90219803],\n",
       "        [  1.        ,  60.18259939,  86.3085521 ],\n",
       "        [  1.        ,  79.03273605,  75.34437644]])"
      ]
     },
     "execution_count": 12,
     "metadata": {},
     "output_type": "execute_result"
    }
   ],
   "source": [
    "X[0:5,:]"
   ]
  },
  {
   "cell_type": "markdown",
   "metadata": {},
   "source": [
    "## Steps 3 and 4: Define the Model and the Parameters\n",
    "The model we'll continue to use is based on the familar expression for $h_{\\theta}(x)$ that we know, but now modified via the sigmoid function. So we have\n",
    "\n",
    "$$g_{\\theta}(x) = \\frac{1}{1 + e^{-(\\theta_{0}x_{0} + \\theta_{1}x_{1} + \\theta_{2}x_{2})}}$$\n",
    "\n",
    "where the expression in brackets in the power of $e$ is just our old $h_{\\theta}(x)$.\n",
    "\n",
    "The parameters of this model are the 3 values of $\\theta$, namely, $\\theta_{0}$, $\\theta_{1}$, and $\\theta_{2}$."
   ]
  },
  {
   "cell_type": "code",
   "execution_count": 13,
   "metadata": {
    "collapsed": true
   },
   "outputs": [],
   "source": [
    "# theta is a column vector\n",
    "theta = np.matrix(np.zeros(3)).reshape(3,1)"
   ]
  },
  {
   "cell_type": "code",
   "execution_count": 14,
   "metadata": {
    "collapsed": false
   },
   "outputs": [
    {
     "data": {
      "text/plain": [
       "matrix([[ 0.],\n",
       "        [ 0.],\n",
       "        [ 0.]])"
      ]
     },
     "execution_count": 14,
     "metadata": {},
     "output_type": "execute_result"
    }
   ],
   "source": [
    "theta"
   ]
  },
  {
   "cell_type": "markdown",
   "metadata": {},
   "source": [
    "## Step 5: Define the Cost of Getting it Wrong\n",
    "The cost of classfying things wrong is defined as\n",
    "\n",
    "$$J(\\theta) = \\frac{1}{m} \\sum_{i=1}^{m} [-y^{(i)} log(g_{\\theta}(x^{(i)})) - (1-y^{(i)}) log(1-g_{\\theta}(x^{(i)}))]$$\n",
    "\n",
    "As always, the cost of getting it wrong is defined over the entire dataset. There are $m$ rows of data and each $x^{(i)}$ consists of the two scores in a row of the dataset.\n",
    "\n",
    "Let's visualize this cost function. [[VISUALIZE COST FUNCTION]]"
   ]
  },
  {
   "cell_type": "code",
   "execution_count": 15,
   "metadata": {
    "collapsed": false
   },
   "outputs": [
    {
     "data": {
      "text/plain": [
       "<bound method AxesSubplot.plot of <matplotlib.axes._subplots.AxesSubplot object at 0x11a994f50>>"
      ]
     },
     "execution_count": 15,
     "metadata": {},
     "output_type": "execute_result"
    },
    {
     "data": {
      "image/png": "[encoded data removed]",
      "text/plain": [
       "<matplotlib.figure.Figure at 0x11ade7f10>"
      ]
     },
     "metadata": {},
     "output_type": "display_data"
    }
   ],
   "source": [
    "# Visualize the cost function when y = 1 and y = 0\n",
    "x_vals = np.linspace(0,1,100)\n",
    "y_1_vals = -np.log(x_vals)\n",
    "y_0_vals = -np.log(1 - x_vals)\n",
    "\n",
    "fig, ax = plt.subplots(figsize=(8,5))\n",
    "ax.plot(x_vals, y_1_vals, color='blue', linestyle='solid', label='y = 1')\n",
    "ax.plot(x_vals, y_0_vals, color='yellow', linestyle='solid', label='y = 0')\n",
    "plt.legend(loc='upper center')\n",
    "plt.xlabel(r'$g_{\\theta}(x)$', fontsize=15)\n",
    "plt.ylabel(r'$J(\\theta)$', fontsize=15)\n",
    "ax.plot"
   ]
  },
  {
   "cell_type": "markdown",
   "metadata": {},
   "source": [
    "## Exercise 5-2\n",
    "Can you explain what's happening in the plot above?"
   ]
  },
  {
   "cell_type": "code",
   "execution_count": 16,
   "metadata": {
    "collapsed": false
   },
   "outputs": [
    {
     "data": {
      "text/plain": [
       "array([        inf,  4.59511985,  3.90197267,  3.49650756,  3.20882549,\n",
       "        2.98568194,  2.80336038,  2.6492097 ,  2.51567831,  2.39789527,\n",
       "        2.29253476,  2.19722458,  2.1102132 ,  2.03017049,  1.95606252,\n",
       "        1.88706965,  1.82253113,  1.76190651,  1.70474809,  1.65068087,\n",
       "        1.59938758,  1.55059741,  1.5040774 ,  1.45962563,  1.41706602,\n",
       "        1.37624403,  1.33702331,  1.29928298,  1.26291534,  1.22782402,\n",
       "        1.19392247,  1.16113265,  1.12938395,  1.09861229,  1.06875933,\n",
       "        1.03977179,  1.01160091,  0.98420194,  0.95753369,  0.9315582 ,\n",
       "        0.9062404 ,  0.88154778,  0.85745023,  0.83391973,  0.81093022,\n",
       "        0.78845736,  0.76647845,  0.74497225,  0.72391884,  0.70329955,\n",
       "        0.68309684,  0.66329422,  0.64387613,  0.62482794,  0.6061358 ,\n",
       "        0.58778666,  0.56976816,  0.55206858,  0.53467684,  0.51758241,\n",
       "        0.50077529,  0.48424599,  0.46798547,  0.45198512,  0.43623677,\n",
       "        0.42073258,  0.40546511,  0.39042723,  0.37561214,  0.36101335,\n",
       "        0.34662461,  0.33243997,  0.31845373,  0.30466041,  0.29105476,\n",
       "        0.27763174,  0.26438651,  0.25131443,  0.23841102,  0.225672  ,\n",
       "        0.21309322,  0.2006707 ,  0.1884006 ,  0.17627924,  0.16430305,\n",
       "        0.15246859,  0.14077255,  0.12921173,  0.11778304,  0.10648348,\n",
       "        0.09531018,  0.08426034,  0.07333127,  0.06252036,  0.05182507,\n",
       "        0.04124296,  0.03077166,  0.02040887,  0.01015237, -0.        ])"
      ]
     },
     "execution_count": 16,
     "metadata": {},
     "output_type": "execute_result"
    }
   ],
   "source": [
    "y_1_vals"
   ]
  },
  {
   "cell_type": "code",
   "execution_count": 17,
   "metadata": {
    "collapsed": false
   },
   "outputs": [
    {
     "data": {
      "text/plain": [
       "array([-0.        ,  0.01015237,  0.02040887,  0.03077166,  0.04124296,\n",
       "        0.05182507,  0.06252036,  0.07333127,  0.08426034,  0.09531018,\n",
       "        0.10648348,  0.11778304,  0.12921173,  0.14077255,  0.15246859,\n",
       "        0.16430305,  0.17627924,  0.1884006 ,  0.2006707 ,  0.21309322,\n",
       "        0.225672  ,  0.23841102,  0.25131443,  0.26438651,  0.27763174,\n",
       "        0.29105476,  0.30466041,  0.31845373,  0.33243997,  0.34662461,\n",
       "        0.36101335,  0.37561214,  0.39042723,  0.40546511,  0.42073258,\n",
       "        0.43623677,  0.45198512,  0.46798547,  0.48424599,  0.50077529,\n",
       "        0.51758241,  0.53467684,  0.55206858,  0.56976816,  0.58778666,\n",
       "        0.6061358 ,  0.62482794,  0.64387613,  0.66329422,  0.68309684,\n",
       "        0.70329955,  0.72391884,  0.74497225,  0.76647845,  0.78845736,\n",
       "        0.81093022,  0.83391973,  0.85745023,  0.88154778,  0.9062404 ,\n",
       "        0.9315582 ,  0.95753369,  0.98420194,  1.01160091,  1.03977179,\n",
       "        1.06875933,  1.09861229,  1.12938395,  1.16113265,  1.19392247,\n",
       "        1.22782402,  1.26291534,  1.29928298,  1.33702331,  1.37624403,\n",
       "        1.41706602,  1.45962563,  1.5040774 ,  1.55059741,  1.59938758,\n",
       "        1.65068087,  1.70474809,  1.76190651,  1.82253113,  1.88706965,\n",
       "        1.95606252,  2.03017049,  2.1102132 ,  2.19722458,  2.29253476,\n",
       "        2.39789527,  2.51567831,  2.6492097 ,  2.80336038,  2.98568194,\n",
       "        3.20882549,  3.49650756,  3.90197267,  4.59511985,         inf])"
      ]
     },
     "execution_count": 17,
     "metadata": {},
     "output_type": "execute_result"
    }
   ],
   "source": [
    "y_0_vals"
   ]
  },
  {
   "cell_type": "markdown",
   "metadata": {},
   "source": [
    "The cost function is designed to penalize misclassification. For each set of parameter values, there will be a cost value over the entire data set. The optimal parameter values are the ones that minimize this cost function. Remember, to think like a machine is to take a problem like this, turn it into a giant optimization problem, and then devise and implement a technique for finding the optimal paramter values (afterall, you can't try every possible combination of $\\theta$ values, because that will take longer than the time for the heat death of the universe!).\n",
    "\n",
    "Of course our technique for finding the right paramater values is going to be gradient descent. But before we get to that, let's implement the cost function."
   ]
  },
  {
   "cell_type": "code",
   "execution_count": 18,
   "metadata": {
    "collapsed": true
   },
   "outputs": [],
   "source": [
    "def logisticCost(X, y, theta):\n",
    "    # Inputs must be matrices\n",
    "    # X = m x n (including bias feature of 1 for x0)\n",
    "    # y = m x 1\n",
    "    # theta = n x 1\n",
    "    \n",
    "    # Number of data points in the dataset\n",
    "    m = len(X)\n",
    "    cost_first_term = np.multiply(-y,np.log(sigmoid(X * theta)))\n",
    "    cost_second_term = np.multiply(1-y, np.log(1 - sigmoid(X * theta)))\n",
    "    non_normal_term = np.sum(np.subtract(cost_first_term, cost_second_term))\n",
    "    cost = non_normal_term / m\n",
    "    \n",
    "    return cost"
   ]
  },
  {
   "cell_type": "code",
   "execution_count": 19,
   "metadata": {
    "collapsed": false
   },
   "outputs": [
    {
     "data": {
      "text/plain": [
       "0.69314718055994529"
      ]
     },
     "execution_count": 19,
     "metadata": {},
     "output_type": "execute_result"
    }
   ],
   "source": [
    "# try it out for theta = zeros\n",
    "logisticCost(X,y,theta)"
   ]
  },
  {
   "cell_type": "code",
   "execution_count": 20,
   "metadata": {
    "collapsed": false
   },
   "outputs": [
    {
     "data": {
      "text/plain": [
       "1.3165928742073278"
      ]
     },
     "execution_count": 20,
     "metadata": {},
     "output_type": "execute_result"
    }
   ],
   "source": [
    "# try it out for theta = 0.03\n",
    "logisticCost(X, y, np.matrix([[0.03],[0.03],[0.03]]))"
   ]
  },
  {
   "cell_type": "markdown",
   "metadata": {},
   "source": [
    "## Steps 6 and 7: Pick an Iterative Method to Minimize the Cost of Getting it Wrong and Implement It\n",
    "Once again, the method that will \"learn\" the optimal values for $\\theta$ is gradient descent. For logistic regression we have to change our existing gradientDescent function to account for the sigmoid transformation. Otherwise, the expression for gradient descent looks the same as it did before, namely:\n",
    "\n",
    "$$\\frac{\\partial J(\\theta)}{\\partial \\theta_{j}} = \\frac{1}{m}\\sum_{i=1}^{m}(g_{\\theta}(x^{(i)}) - y^{(i)}) x_{j}^{(i)}$$\n",
    "\n",
    "Let's implement this new gradient descent function for logistic regression now."
   ]
  },
  {
   "cell_type": "code",
   "execution_count": 21,
   "metadata": {
    "collapsed": true
   },
   "outputs": [],
   "source": [
    "# BEGIN scratch work\n",
    "# Doing some scratch work to make sure the matrix multiplication works out\n",
    "# matrix multiplication is great for computational efficiency\n",
    "test1 = np.matrix([[1],[2],[3],[4]])"
   ]
  },
  {
   "cell_type": "code",
   "execution_count": 22,
   "metadata": {
    "collapsed": false
   },
   "outputs": [
    {
     "data": {
      "text/plain": [
       "matrix([[1],\n",
       "        [2],\n",
       "        [3],\n",
       "        [4]])"
      ]
     },
     "execution_count": 22,
     "metadata": {},
     "output_type": "execute_result"
    }
   ],
   "source": [
    "test1"
   ]
  },
  {
   "cell_type": "code",
   "execution_count": 23,
   "metadata": {
    "collapsed": true
   },
   "outputs": [],
   "source": [
    "test2 = np.matrix([[1,2,3,4],[1,2,3,4], [1,2,3,4], [1,2,3,4]])"
   ]
  },
  {
   "cell_type": "code",
   "execution_count": 24,
   "metadata": {
    "collapsed": false
   },
   "outputs": [
    {
     "data": {
      "text/plain": [
       "matrix([[1, 2, 3, 4],\n",
       "        [1, 2, 3, 4],\n",
       "        [1, 2, 3, 4],\n",
       "        [1, 2, 3, 4]])"
      ]
     },
     "execution_count": 24,
     "metadata": {},
     "output_type": "execute_result"
    }
   ],
   "source": [
    "test2"
   ]
  },
  {
   "cell_type": "code",
   "execution_count": 25,
   "metadata": {
    "collapsed": false
   },
   "outputs": [
    {
     "data": {
      "text/plain": [
       "matrix([[30],\n",
       "        [30],\n",
       "        [30],\n",
       "        [30]])"
      ]
     },
     "execution_count": 25,
     "metadata": {},
     "output_type": "execute_result"
    }
   ],
   "source": [
    "test2 * test1"
   ]
  },
  {
   "cell_type": "code",
   "execution_count": 26,
   "metadata": {
    "collapsed": false
   },
   "outputs": [
    {
     "data": {
      "text/plain": [
       "matrix([[10],\n",
       "        [20],\n",
       "        [30],\n",
       "        [40]])"
      ]
     },
     "execution_count": 26,
     "metadata": {},
     "output_type": "execute_result"
    }
   ],
   "source": [
    "(test1.T * test2).T"
   ]
  },
  {
   "cell_type": "code",
   "execution_count": 27,
   "metadata": {
    "collapsed": true
   },
   "outputs": [],
   "source": [
    "# Right, that's the result we need\n",
    "# END scratch work"
   ]
  },
  {
   "cell_type": "code",
   "execution_count": 28,
   "metadata": {
    "collapsed": true
   },
   "outputs": [],
   "source": [
    "# Gradient Descent for Logistic Regression/Classification\n",
    "def logisticGradDescent(X, y, theta, alpha, iters):\n",
    "    # X is a m x n matrix (including a first column of 1s)\n",
    "    # y is a m x 1 matrix\n",
    "    # theta is an n x 1 matrix\n",
    "    # alpha is the learning rate\n",
    "    # iters is the number of iterations of gradient descent\n",
    "    \n",
    "    # Keep track of the evolution of theta and cost values\n",
    "    theta_agg = theta # initial value of the aggregated array\n",
    "    cost_vals = logisticCost(X,y,theta) # initial value of cost for the initial theta value\n",
    "    \n",
    "    m = len(X)\n",
    "    \n",
    "    # Initialize theta for the iter loop below\n",
    "    theta_val = theta\n",
    "    \n",
    "    # Notice there's only 1 loop -- the one over iters -- in this implementation\n",
    "    for i in range(iters):\n",
    "        error = np.subtract(sigmoid(X * theta), y)\n",
    "        sum_error = (error.T * X).T # using the test1, test2 example above\n",
    "        # no need to explicitly sum the error because the matrix multiplication does it automatically\n",
    "        # Multiply by alpha and divide by m to normalize the sum_error\n",
    "        norm_sum_error = np.divide(np.multiply(sum_error, alpha),m)\n",
    "        # norm_sum_error is an n x 1 matrix containing the correction values for each theta parameter\n",
    "        \n",
    "        # Update all the thetas simultaneously\n",
    "        theta_val = np.subtract(theta_val, norm_sum_error)\n",
    "        \n",
    "        # keep track of the latest theta val\n",
    "        theta_agg = np.c_[theta_agg, theta_val]\n",
    "        \n",
    "        # Calculate the cost for these parameter values\n",
    "        cost_vals = np.c_[cost_vals, logisticCost(X, y, theta_val)]\n",
    "        \n",
    "    return theta_agg, cost_vals"
   ]
  },
  {
   "cell_type": "code",
   "execution_count": 29,
   "metadata": {
    "collapsed": false
   },
   "outputs": [],
   "source": [
    "# Test it out\n",
    "theta_out, cost_out = logisticGradDescent(X, y, theta, 0.00001, 100)"
   ]
  },
  {
   "cell_type": "code",
   "execution_count": 79,
   "metadata": {
    "collapsed": false
   },
   "outputs": [],
   "source": [
    "#theta_out"
   ]
  },
  {
   "cell_type": "code",
   "execution_count": 80,
   "metadata": {
    "collapsed": false
   },
   "outputs": [],
   "source": [
    "#cost_out"
   ]
  },
  {
   "cell_type": "code",
   "execution_count": 32,
   "metadata": {
    "collapsed": false
   },
   "outputs": [
    {
     "data": {
      "text/plain": [
       "(101, 1)"
      ]
     },
     "execution_count": 32,
     "metadata": {},
     "output_type": "execute_result"
    }
   ],
   "source": [
    "cost_out.T.shape"
   ]
  },
  {
   "cell_type": "code",
   "execution_count": 33,
   "metadata": {
    "collapsed": false
   },
   "outputs": [
    {
     "data": {
      "text/plain": [
       "(101,)"
      ]
     },
     "execution_count": 33,
     "metadata": {},
     "output_type": "execute_result"
    }
   ],
   "source": [
    "np.linspace(1,101,101).shape"
   ]
  },
  {
   "cell_type": "code",
   "execution_count": 202,
   "metadata": {
    "collapsed": false
   },
   "outputs": [
    {
     "data": {
      "text/plain": [
       "<matplotlib.text.Text at 0x14fb9bf90>"
      ]
     },
     "execution_count": 202,
     "metadata": {},
     "output_type": "execute_result"
    },
    {
     "data": {
      "image/png": "[encoded data removed]",
      "text/plain": [
       "<matplotlib.figure.Figure at 0x14fe584d0>"
      ]
     },
     "metadata": {},
     "output_type": "display_data"
    }
   ],
   "source": [
    "plt.plot(np.linspace(1,101,101), cost_out.T)\n",
    "plt.title(r'Cost vs. Iterations ($\\alpha$ fixed)')\n",
    "plt.xlabel('Iterations')\n",
    "plt.ylabel('Cost of Being Wrong')"
   ]
  },
  {
   "cell_type": "markdown",
   "metadata": {},
   "source": [
    "We see that the gradient descent is sensitive to both alpha and the number of iterations. Better to implement this using an optimization package that is written by experts. The concept is the same the numerical techniques used are super advanced. So let's take advantage of that."
   ]
  },
  {
   "cell_type": "markdown",
   "metadata": {},
   "source": [
    "### Finding the Optimal Parameter Values Using Scikit-Learn\n",
    "\n"
   ]
  },
  {
   "cell_type": "code",
   "execution_count": 45,
   "metadata": {
    "collapsed": true
   },
   "outputs": [],
   "source": [
    "from sklearn.linear_model import LogisticRegression"
   ]
  },
  {
   "cell_type": "code",
   "execution_count": 192,
   "metadata": {
    "collapsed": false
   },
   "outputs": [],
   "source": [
    "# Solvers that seem to work well are 'liblinear' and 'newton-cg\"\n",
    "lr = LogisticRegression(C=100.0, random_state=0, solver='liblinear', verbose=2)"
   ]
  },
  {
   "cell_type": "code",
   "execution_count": 83,
   "metadata": {
    "collapsed": false
   },
   "outputs": [],
   "source": [
    "X_input = data.iloc[:, 1:3].values"
   ]
  },
  {
   "cell_type": "code",
   "execution_count": 84,
   "metadata": {
    "collapsed": false
   },
   "outputs": [],
   "source": [
    "y_input = data.iloc[:, 3].values"
   ]
  },
  {
   "cell_type": "code",
   "execution_count": 85,
   "metadata": {
    "collapsed": false
   },
   "outputs": [
    {
     "data": {
      "text/plain": [
       "(100,)"
      ]
     },
     "execution_count": 85,
     "metadata": {},
     "output_type": "execute_result"
    }
   ],
   "source": [
    "y_input.shape"
   ]
  },
  {
   "cell_type": "code",
   "execution_count": 193,
   "metadata": {
    "collapsed": false
   },
   "outputs": [
    {
     "name": "stdout",
     "output_type": "stream",
     "text": [
      "[LibLinear]"
     ]
    },
    {
     "data": {
      "text/plain": [
       "LogisticRegression(C=100.0, class_weight=None, dual=False, fit_intercept=True,\n",
       "          intercept_scaling=1, max_iter=100, multi_class='ovr', n_jobs=1,\n",
       "          penalty='l2', random_state=0, solver='liblinear', tol=0.0001,\n",
       "          verbose=2, warm_start=False)"
      ]
     },
     "execution_count": 193,
     "metadata": {},
     "output_type": "execute_result"
    }
   ],
   "source": [
    "lr.fit(X_input, y_input)"
   ]
  },
  {
   "cell_type": "markdown",
   "metadata": {},
   "source": [
    "## Step 8: Results"
   ]
  },
  {
   "cell_type": "code",
   "execution_count": 194,
   "metadata": {
    "collapsed": false
   },
   "outputs": [
    {
     "data": {
      "text/plain": [
       "array([[ 0.27252389,  0.72747611]])"
      ]
     },
     "execution_count": 194,
     "metadata": {},
     "output_type": "execute_result"
    }
   ],
   "source": [
    "# Probability of [rejection, admission] for a single set of exam scores\n",
    "lr.predict_proba(np.array([45, 85]).reshape(1,-1))"
   ]
  },
  {
   "cell_type": "code",
   "execution_count": 196,
   "metadata": {
    "collapsed": false
   },
   "outputs": [
    {
     "data": {
      "text/plain": [
       "array([0])"
      ]
     },
     "execution_count": 196,
     "metadata": {},
     "output_type": "execute_result"
    }
   ],
   "source": [
    "# Rejected or Admitted?\n",
    "lr.predict(np.array([45, 45]).reshape(1,-1))"
   ]
  },
  {
   "cell_type": "code",
   "execution_count": 197,
   "metadata": {
    "collapsed": false
   },
   "outputs": [
    {
     "name": "stdout",
     "output_type": "stream",
     "text": [
      "[0 0 0 1 1 0 1 0 1 1 1 0 1 1 0 1 0 0 1 1 0 1 0 0 1 1 1 1 0 0 1 1 0 0 0 0 1\n",
      " 1 0 0 1 0 1 1 0 0 1 1 1 1 1 1 1 0 0 0 1 1 1 1 1 0 0 0 0 0 1 0 1 1 0 1 1 1\n",
      " 1 1 1 1 0 1 1 1 1 0 1 1 0 1 1 0 1 1 0 1 1 1 1 1 0 1]\n"
     ]
    }
   ],
   "source": [
    "# Rejected or Admitted for the entire data set\n",
    "y_pred = lr.predict(X_input)\n",
    "print y_pred"
   ]
  },
  {
   "cell_type": "code",
   "execution_count": 198,
   "metadata": {
    "collapsed": false
   },
   "outputs": [
    {
     "data": {
      "text/plain": [
       "array([False, False, False, False, False, False, False,  True, False,\n",
       "       False,  True, False, False, False, False, False,  True, False,\n",
       "       False, False, False, False, False, False, False, False, False,\n",
       "        True, False, False, False, False, False,  True, False, False,\n",
       "        True, False, False, False, False, False, False,  True, False,\n",
       "       False, False, False, False, False, False, False, False, False,\n",
       "       False, False, False,  True, False, False, False, False, False,\n",
       "       False, False, False, False, False, False, False, False, False,\n",
       "       False, False, False, False, False, False, False,  True, False,\n",
       "       False, False,  True, False, False, False, False, False, False,\n",
       "       False, False, False, False, False, False, False, False,  True, False], dtype=bool)"
      ]
     },
     "execution_count": 198,
     "metadata": {},
     "output_type": "execute_result"
    }
   ],
   "source": [
    "# How do the predictions compare with the actual labels on the data set?\n",
    "y_input != y_pred"
   ]
  },
  {
   "cell_type": "code",
   "execution_count": 199,
   "metadata": {
    "collapsed": false
   },
   "outputs": [
    {
     "name": "stdout",
     "output_type": "stream",
     "text": [
      "Misclassified examples: 11\n"
     ]
    }
   ],
   "source": [
    "# How many inputs are misclassified?\n",
    "print('Misclassified examples: %d' % (y_input != y_pred).sum())"
   ]
  },
  {
   "cell_type": "code",
   "execution_count": 200,
   "metadata": {
    "collapsed": false
   },
   "outputs": [
    {
     "data": {
      "text/plain": [
       "0.89000000000000001"
      ]
     },
     "execution_count": 200,
     "metadata": {},
     "output_type": "execute_result"
    }
   ],
   "source": [
    "# Accuracy of the classifier\n",
    "from sklearn.metrics import accuracy_score\n",
    "accuracy_score(y_input, y_pred)"
   ]
  },
  {
   "cell_type": "code",
   "execution_count": 201,
   "metadata": {
    "collapsed": false
   },
   "outputs": [
    {
     "data": {
      "text/plain": [
       "<module 'matplotlib.pyplot' from '/Users/jsubapple/anaconda/lib/python2.7/site-packages/matplotlib/pyplot.pyc'>"
      ]
     },
     "execution_count": 201,
     "metadata": {},
     "output_type": "execute_result"
    },
    {
     "data": {
      "image/png": "[encoded data removed]",
      "text/plain": [
       "<matplotlib.figure.Figure at 0x14f4399d0>"
      ]
     },
     "metadata": {},
     "output_type": "display_data"
    }
   ],
   "source": [
    "# From the shared functions\n",
    "plot_decision_regions(X_input, y_input, lr)"
   ]
  },
  {
   "cell_type": "markdown",
   "metadata": {},
   "source": [
    "So far so good. But what happens when the points we want to classify can't really be separated by a simple boundary like this one? That's when we'll have to construct non-linear boundaries as we'll do in the next chapter."
   ]
  }
 ],
 "metadata": {
  "anaconda-cloud": {},
  "kernelspec": {
   "display_name": "Python [conda root]",
   "language": "python",
   "name": "conda-root-py"
  },
  "language_info": {
   "codemirror_mode": {
    "name": "ipython",
    "version": 2
   },
   "file_extension": ".py",
   "mimetype": "text/x-python",
   "name": "python",
   "nbconvert_exporter": "python",
   "pygments_lexer": "ipython2",
   "version": "2.7.12"
  }
 },
 "nbformat": 4,
 "nbformat_minor": 1
}
