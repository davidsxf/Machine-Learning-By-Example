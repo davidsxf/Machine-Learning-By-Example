{
 "cells": [
  {
   "cell_type": "markdown",
   "metadata": {},
   "source": [
    "# Think Like a Machine\n",
    "Course Outline\n",
    "=============="
   ]
  },
  {
   "cell_type": "markdown",
   "metadata": {},
   "source": [
    "## Course Materials\n",
    "- *Data Science for Business* by Foster Provost and Tom Fawcett\n",
    "- Andreesen Horowitz AI Playbook (http://aiplaybook.a16z.com/)\n",
    "- The Simple Economics of Machine Intelligence (HBR article - https://hbr.org/2016/11/the-simple-economics-of-machine-intelligence)\n",
    "- Data sets\n",
    "- Blogs and articles\n",
    "- Download Anaconda and instructions for that - WRITE UP INSTRUCTIONS"
   ]
  },
  {
   "cell_type": "markdown",
   "metadata": {},
   "source": [
    "## Session 1\n",
    "- Machine learning and AI in the press -- how to separate the hype from the reality?\n",
    "- Examples of companies using machine learning to great benefit -- we've all heard of the recommender systems at Netflix and Amazon, but what else? Look at Information Week's Elite 2016 companies like Capital One and Andreesen Horowtiz examples (http://www.informationweek.com/elite100-2016.asp, http://aiplaybook.a16z.com/).\n",
    "- The economics of machine learning (a16z and HBS article)\n",
    "- The basic tasks of machine learning (Provost and Fawcett pp. 20-23)\n",
    "- EXCERCISE: What should the data look like for each of these tasks?\n",
    "\n",
    "## Session 2\n",
    "- What makes machine learning different from other approaches to learning from experience?\n",
    "  - Bottom up not top down (not rules but experience)\n",
    "  - Lots of data but not necessarity big data\n",
    "  - Data is just a table of numbers\n",
    "  - Experience, tasks, models, cost functions, and optimization algorithms\n",
    "  - Machine learning tasks are giant numerical optimization problems\n",
    "  - Machine learning system = Model + Cost Function + Cost Optimization Algorithm\n",
    "  - Example of how the results change when the knobs are moved\n",
    "  - Key operational questions for machine learning -- the switches and knobs on your control panel.\n",
    "  - The promise and limits of machine learning.\n",
    "\n",
    "## Session 3\n",
    "- Linear regression -- motivating examples\n",
    "  - Wine data\n",
    "  - Housing prices\n",
    "  - ...\n",
    "- Visualize the data (whenever possible)\n",
    "- Define the inputs\n",
    "- Define the outputs\n",
    "- Define the model\n",
    "  - How the model translates into a matrix\n",
    "  - All you need to know about matrix algebra -- the multiplication rule\n",
    "  - Matrix notation helps you parse expressions such as $J(\\theta) = \\frac{1}{2m} \\sum_{i=1}^{m} (h_{\\theta}x^{(i)}) - y^{(i)})^2$\n",
    "- Define the parameters of the model\n",
    "- Define the cost of getting it wrong\n",
    "- Pick a method for miminimizing the cost of getting it wrong and implement it\n",
    "- Check to see if your results make sense\n",
    "\n",
    "\n",
    "## Session 4\n",
    "- Multi-variable and non-linear regression\n",
    "\n",
    "## Session 5\n",
    "- Logistic regression\n",
    "\n",
    "## Session 6\n",
    "- Neural networks for classification\n",
    "- Support Vector Machines for classification\n",
    "\n",
    "## Session 7\n",
    "- Evaluating and fine tuning machine learning models\n",
    "    - Bias and variance\n",
    "    - Precision and Recall\n",
    "    - Learning curves\n",
    "    - Error analysis\n",
    "    - Ceiling analysis\n",
    "\n",
    "## Session 8\n",
    "- Measuring similarity using K-means\n",
    "\n",
    "## Session 9\n",
    "- Principal Component Analysis and dimensionality reduction\n",
    "\n",
    "## Session 10\n",
    "- Anomaly detection\n",
    "\n",
    "## Session 11\n",
    "- Recommender systems\n",
    "\n",
    "## Session 12\n",
    "- Representing and learning from text\n",
    "\n",
    "## Session 13\n",
    "* Techniques for handling big data\n",
    "  * Stochastic gradient descent\n",
    "  * Mini-batch gradient descent\n",
    "  * Splitting up data for parallel processing\n",
    "  "
   ]
  },
  {
   "cell_type": "code",
   "execution_count": null,
   "metadata": {
    "collapsed": true
   },
   "outputs": [],
   "source": []
  }
 ],
 "metadata": {
  "anaconda-cloud": {},
  "kernelspec": {
   "display_name": "Python [conda root]",
   "language": "python",
   "name": "conda-root-py"
  },
  "language_info": {
   "codemirror_mode": {
    "name": "ipython",
    "version": 2
   },
   "file_extension": ".py",
   "mimetype": "text/x-python",
   "name": "python",
   "nbconvert_exporter": "python",
   "pygments_lexer": "ipython2",
   "version": "2.7.13"
  }
 },
 "nbformat": 4,
 "nbformat_minor": 1
}
