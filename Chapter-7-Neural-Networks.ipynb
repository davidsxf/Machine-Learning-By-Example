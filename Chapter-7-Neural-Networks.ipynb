{
 "cells": [
  {
   "cell_type": "markdown",
   "metadata": {},
   "source": [
    "# Think Like a Machine - Chapter 7\n",
    "Neural Networks\n",
    "==============="
   ]
  },
  {
   "cell_type": "markdown",
   "metadata": {},
   "source": [
    "**ACKNOWLEDGEMENT**\n",
    "\n",
    "**The MNIST data loader is adapted from https://github.com/sorki/python-mnist/blob/master/mnist/loader.py. Also stole  ideas and code from Sonya Sawtelle's excellent blog at http://sdsawtelle.github.io/blog/output/week4-andrew-ng-machine-learning-with-python.html.**"
   ]
  },
  {
   "cell_type": "markdown",
   "metadata": {},
   "source": [
    "In this notebook we're going to use neural networks in the SciKit Learn library to learn how to classify two datasets.  Instead of learning how to implement neural networks from scratch we're going to use off-the-shelf neural networks. But we're going to learn how a neural network works by probing its behavior in various ways. \n",
    "\n",
    "The first dataset is the one we used in the non-linear logistic regression notebook.\n",
    "\n",
    "The second dataset is quite well known - it's a handwritten set of digits -- a bunch of images from a famous dataset called MNIST (http://yann.lecun.com/exdb/mnist/). Let's start with the MNIST dataset."
   ]
  },
  {
   "cell_type": "code",
   "execution_count": 1,
   "metadata": {
    "collapsed": false
   },
   "outputs": [],
   "source": [
    "# Get access to the MNIST class defined in mnist_loader.py\n",
    "# mnist_loader.py contains methods for loading and displaying the MNIST data\n",
    "%run mnist_loader.py"
   ]
  },
  {
   "cell_type": "code",
   "execution_count": 2,
   "metadata": {
    "collapsed": true
   },
   "outputs": [],
   "source": [
    "# Import our usual libraries\n",
    "from __future__ import division \n",
    "import numpy as np\n",
    "from numpy import random as rnd\n",
    "import pandas as pd\n",
    "import matplotlib.pyplot as plt\n",
    "%matplotlib inline\n",
    "import seaborn as sns\n",
    "import os"
   ]
  },
  {
   "cell_type": "markdown",
   "metadata": {},
   "source": [
    "## The Problem\n",
    "\n",
    "Handwriting is messy. Can we decipher hand-written digits? "
   ]
  },
  {
   "cell_type": "markdown",
   "metadata": {},
   "source": [
    "## Load the MNIST Data\n",
    "\n",
    "We'll adapt a package from GitHub that allows us to read the second dataset and display the images in it."
   ]
  },
  {
   "cell_type": "code",
   "execution_count": 3,
   "metadata": {
    "collapsed": false
   },
   "outputs": [
    {
     "data": {
      "text/plain": [
       "__main__.MNIST"
      ]
     },
     "execution_count": 3,
     "metadata": {},
     "output_type": "execute_result"
    }
   ],
   "source": [
    "# Initialize the mnist object\n",
    "mnist = MNIST()\n",
    "type(mnist)"
   ]
  },
  {
   "cell_type": "code",
   "execution_count": 4,
   "metadata": {
    "collapsed": false
   },
   "outputs": [],
   "source": [
    "# Get the testing images and labels\n",
    "test_images, test_labels = mnist.load_testing()"
   ]
  },
  {
   "cell_type": "code",
   "execution_count": 5,
   "metadata": {
    "collapsed": false
   },
   "outputs": [
    {
     "data": {
      "text/plain": [
       "(list, array.array)"
      ]
     },
     "execution_count": 5,
     "metadata": {},
     "output_type": "execute_result"
    }
   ],
   "source": [
    "type(test_images), type(test_labels)"
   ]
  },
  {
   "cell_type": "code",
   "execution_count": 6,
   "metadata": {
    "collapsed": false
   },
   "outputs": [
    {
     "data": {
      "text/plain": [
       "<matplotlib.image.AxesImage at 0x119b09150>"
      ]
     },
     "execution_count": 6,
     "metadata": {},
     "output_type": "execute_result"
    },
    {
     "data": {
      "image/png": "[encoded data removed]",
      "text/plain": [
       "<matplotlib.figure.Figure at 0x1164fd510>"
      ]
     },
     "metadata": {},
     "output_type": "display_data"
    }
   ],
   "source": [
    "mnist.display(test_images[4000])"
   ]
  },
  {
   "cell_type": "code",
   "execution_count": 7,
   "metadata": {
    "collapsed": false
   },
   "outputs": [],
   "source": [
    "# Get the training images and labels\n",
    "train_images, train_labels = mnist.load_training()"
   ]
  },
  {
   "cell_type": "code",
   "execution_count": 8,
   "metadata": {
    "collapsed": false
   },
   "outputs": [
    {
     "data": {
      "text/plain": [
       "<matplotlib.image.AxesImage at 0x11ff1f490>"
      ]
     },
     "execution_count": 8,
     "metadata": {},
     "output_type": "execute_result"
    },
    {
     "data": {
      "image/png": "[encoded data removed]",
      "text/plain": [
       "<matplotlib.figure.Figure at 0x112abf390>"
      ]
     },
     "metadata": {},
     "output_type": "display_data"
    }
   ],
   "source": [
    "mnist.display(train_images[3390])"
   ]
  },
  {
   "cell_type": "code",
   "execution_count": 9,
   "metadata": {
    "collapsed": false
   },
   "outputs": [
    {
     "data": {
      "text/plain": [
       "[60000, 60000, 10000, 10000]"
      ]
     },
     "execution_count": 9,
     "metadata": {},
     "output_type": "execute_result"
    }
   ],
   "source": [
    "# How many images and labels in the training and test datasets?\n",
    "[len(d) for d in [train_images, train_labels, test_images, test_labels]]"
   ]
  },
  {
   "cell_type": "code",
   "execution_count": 10,
   "metadata": {
    "collapsed": false
   },
   "outputs": [
    {
     "data": {
      "text/plain": [
       "[(60000, 784), (60000,), (10000, 784), (10000,)]"
      ]
     },
     "execution_count": 10,
     "metadata": {},
     "output_type": "execute_result"
    }
   ],
   "source": [
    "# Size of the datasets\n",
    "[np.array(d).shape for d in [train_images, train_labels, test_images, test_labels]]"
   ]
  },
  {
   "cell_type": "code",
   "execution_count": 11,
   "metadata": {
    "collapsed": false
   },
   "outputs": [
    {
     "data": {
      "text/plain": [
       "[0, 1, 2, 3, 4, 5, 6, 7, 8, 9]"
      ]
     },
     "execution_count": 11,
     "metadata": {},
     "output_type": "execute_result"
    }
   ],
   "source": [
    "# How many unique digits do we have handwriting examples for?\n",
    "list(set(test_labels))"
   ]
  },
  {
   "cell_type": "code",
   "execution_count": 12,
   "metadata": {
    "collapsed": false
   },
   "outputs": [],
   "source": [
    "# Finally, extract the data as inputs to the neural network classifier.\n",
    "# Scale the data and one-hot encode the labels\n",
    "from sklearn.preprocessing import OneHotEncoder\n",
    "enc = OneHotEncoder()\n",
    "\n",
    "X_train = np.array(train_images)/255 # rescale to values between 0 and 1\n",
    "# One-hot encode\n",
    "y_train = enc.fit_transform(np.array(train_labels).reshape(-1,1)).toarray()\n",
    "\n",
    "X_test = np.array(test_images)/255 # rescale\n",
    "# One-hot encode\n",
    "y_test = enc.fit_transform(np.array(test_labels).reshape(-1,1)).toarray()"
   ]
  },
  {
   "cell_type": "code",
   "execution_count": 13,
   "metadata": {
    "collapsed": false
   },
   "outputs": [
    {
     "data": {
      "text/plain": [
       "array([ 0.,  0.,  0.,  0.,  0.,  1.,  0.,  0.,  0.,  0.])"
      ]
     },
     "execution_count": 13,
     "metadata": {},
     "output_type": "execute_result"
    }
   ],
   "source": [
    "y_train[2000]"
   ]
  },
  {
   "cell_type": "code",
   "execution_count": 14,
   "metadata": {
    "collapsed": false
   },
   "outputs": [
    {
     "data": {
      "text/plain": [
       "<matplotlib.image.AxesImage at 0x1241bdb50>"
      ]
     },
     "execution_count": 14,
     "metadata": {},
     "output_type": "execute_result"
    },
    {
     "data": {
      "image/png": "[encoded data removed]",
      "text/plain": [
       "<matplotlib.figure.Figure at 0x11fed4650>"
      ]
     },
     "metadata": {},
     "output_type": "display_data"
    }
   ],
   "source": [
    "# Check the one-hot encoding\n",
    "mnist.display(X_train[2000])"
   ]
  },
  {
   "cell_type": "code",
   "execution_count": 141,
   "metadata": {
    "collapsed": false
   },
   "outputs": [
    {
     "data": {
      "text/plain": [
       "MLPClassifier(activation='relu', alpha=1e-05, batch_size='auto', beta_1=0.9,\n",
       "       beta_2=0.999, early_stopping=False, epsilon=1e-08,\n",
       "       hidden_layer_sizes=(25, 25), learning_rate='constant',\n",
       "       learning_rate_init=0.001, max_iter=50, momentum=0.9,\n",
       "       nesterovs_momentum=True, power_t=0.5, random_state=1, shuffle=True,\n",
       "       solver='sgd', tol=0.0001, validation_fraction=0.1, verbose=False,\n",
       "       warm_start=False)"
      ]
     },
     "execution_count": 141,
     "metadata": {},
     "output_type": "execute_result"
    }
   ],
   "source": [
    "# We need a multi-level classifier because we have to classify digits into 0 through 9 distinct classes.\n",
    "\n",
    "from sklearn.neural_network import MLPClassifier\n",
    "# Hidden layers are specified as follows\n",
    "# (n1, ) means n1 units and 1 hidden layer\n",
    "# (n1, n2) means n1 units in the first hidden layer and n2 units in the second hidden layer\n",
    "# (n1, n2, n3) maeans n1 units in the first hidden layer, n2 units in the second hidden layer,\n",
    "#    and n3 units in the third hidden layer\n",
    "# Experiment with max_iter -- set it to 10, 50, 100, 200 to see how the neural network behaves\n",
    "clf = MLPClassifier(solver='sgd', alpha=1e-5,\n",
    "                    hidden_layer_sizes=(25, 25), random_state=1, verbose=False, max_iter=50)\n",
    "\n",
    "clf.fit(X_train, y_train) "
   ]
  },
  {
   "cell_type": "code",
   "execution_count": 126,
   "metadata": {
    "collapsed": false
   },
   "outputs": [
    {
     "data": {
      "text/plain": [
       "[<matplotlib.lines.Line2D at 0x116ea1ed0>]"
      ]
     },
     "execution_count": 126,
     "metadata": {},
     "output_type": "execute_result"
    },
    {
     "data": {
      "image/png": "[encoded data removed]",
      "text/plain": [
       "<matplotlib.figure.Figure at 0x122b8b190>"
      ]
     },
     "metadata": {},
     "output_type": "display_data"
    }
   ],
   "source": [
    "# How quickly is the classifier learning?\n",
    "fig, ax = plt.subplots(figsize=(8,5))\n",
    "plt.plot(clf.loss_curve_)"
   ]
  },
  {
   "cell_type": "code",
   "execution_count": 17,
   "metadata": {
    "collapsed": false
   },
   "outputs": [
    {
     "data": {
      "text/plain": [
       "array([[0, 0, 0, 0, 0, 0, 0, 1, 0, 0],\n",
       "       [0, 0, 1, 0, 0, 0, 0, 0, 0, 0],\n",
       "       [0, 1, 0, 0, 0, 0, 0, 0, 0, 0],\n",
       "       [1, 0, 0, 0, 0, 0, 0, 0, 0, 0],\n",
       "       [0, 0, 0, 0, 1, 0, 0, 0, 0, 0]])"
      ]
     },
     "execution_count": 17,
     "metadata": {},
     "output_type": "execute_result"
    }
   ],
   "source": [
    "# The classifier's predictions for the first 5 images in the test dataset\n",
    "clf.predict(X_test[0:5])"
   ]
  },
  {
   "cell_type": "markdown",
   "metadata": {},
   "source": [
    "When the number of learning iterations is low, the model will often not make any predictions. You'll see all zeros in some or most of the arrays above. Sometimes you'll see multiple ones appear in a row -- that shows the classifier is (eerie!) confused about what number it is and makes a couple of best guesses. "
   ]
  },
  {
   "cell_type": "code",
   "execution_count": 18,
   "metadata": {
    "collapsed": false
   },
   "outputs": [
    {
     "data": {
      "text/plain": [
       "<matplotlib.image.AxesImage at 0x11e75a3d0>"
      ]
     },
     "execution_count": 18,
     "metadata": {},
     "output_type": "execute_result"
    },
    {
     "data": {
      "image/png": "[encoded data removed]",
      "text/plain": [
       "<matplotlib.figure.Figure at 0x11e69da50>"
      ]
     },
     "metadata": {},
     "output_type": "display_data"
    }
   ],
   "source": [
    "# Check if the first prediction read off from the one-hot encoding in the first list above\n",
    "#  matches with the classifier's prediction\n",
    "mnist.display(test_images[0])"
   ]
  },
  {
   "cell_type": "code",
   "execution_count": 19,
   "metadata": {
    "collapsed": false
   },
   "outputs": [
    {
     "data": {
      "text/plain": [
       "<matplotlib.image.AxesImage at 0x11eac1c50>"
      ]
     },
     "execution_count": 19,
     "metadata": {},
     "output_type": "execute_result"
    },
    {
     "data": {
      "image/png": "[encoded data removed]",
      "text/plain": [
       "<matplotlib.figure.Figure at 0x11e99abd0>"
      ]
     },
     "metadata": {},
     "output_type": "display_data"
    }
   ],
   "source": [
    "mnist.display(test_images[3])"
   ]
  },
  {
   "cell_type": "code",
   "execution_count": 130,
   "metadata": {
    "collapsed": false
   },
   "outputs": [
    {
     "data": {
      "text/plain": [
       "array([[0, 0, 0, 0, 0, 0, 0, 0, 0, 0],\n",
       "       [1, 0, 0, 0, 0, 0, 0, 0, 0, 0],\n",
       "       [0, 1, 0, 0, 0, 0, 0, 0, 0, 0],\n",
       "       [0, 0, 0, 0, 0, 0, 0, 1, 0, 0],\n",
       "       [0, 0, 0, 0, 0, 0, 0, 1, 0, 0],\n",
       "       [0, 1, 0, 0, 0, 0, 0, 0, 0, 0],\n",
       "       [0, 0, 0, 0, 0, 1, 0, 0, 0, 0],\n",
       "       [0, 0, 0, 0, 0, 0, 0, 1, 0, 1],\n",
       "       [0, 1, 0, 0, 0, 0, 0, 0, 0, 0],\n",
       "       [1, 0, 0, 0, 0, 0, 0, 0, 0, 0]])"
      ]
     },
     "execution_count": 130,
     "metadata": {},
     "output_type": "execute_result"
    }
   ],
   "source": [
    "# Select n_sel random images from the test dataset -- we have 10,000 test images in total (see above)\n",
    "n_total = 10000\n",
    "n_sel = 10\n",
    "test_image_ids = rnd.choice(range(0,n_total - 1), n_sel, replace=False)\n",
    "\n",
    "# for each of these image ids, get the test image\n",
    "test_images_sel = [X_test[i] for i in test_image_ids]\n",
    "\n",
    "# for each of these image ids, get the result from the classifier\n",
    "clf.predict(test_images_sel)"
   ]
  },
  {
   "cell_type": "code",
   "execution_count": 131,
   "metadata": {
    "collapsed": false
   },
   "outputs": [
    {
     "data": {
      "image/png": "[encoded data removed]",
      "text/plain": [
       "<matplotlib.figure.Figure at 0x11df69e50>"
      ]
     },
     "metadata": {},
     "output_type": "display_data"
    }
   ],
   "source": [
    "# Now show these randomly selected test images and our neural net classifier's prediction based on its training\n",
    "# Adapted from Sonya Sawtelle\n",
    "# http://sdsawtelle.github.io/blog/output/week4-andrew-ng-machine-learning-with-python.html\n",
    "fig, axs = plt.subplots(2, 5, sharex=True, sharey=True, figsize=(10,10)) \n",
    "axs = axs.flatten()  # The returned axs is actually a matrix holding the handles to all the subplot axes objects\n",
    "graymap = plt.get_cmap(\"gray\")\n",
    "\n",
    "for i, indx in enumerate(test_image_ids):\n",
    "    im_mat = np.reshape(test_images_sel[i], (28, 28))\n",
    "    labl = str(np.where(clf.predict(test_images_sel[i].reshape(1, -1))[0] == 1)[0])  \n",
    "    \n",
    "    # Plot the image along with the label it is assigned by the fitted model.\n",
    "    axs[i].imshow(im_mat, cmap=graymap, interpolation=\"None\")\n",
    "    axs[i].annotate(labl, xy=(0.05, 0.85), xycoords=\"axes fraction\", color=\"red\", fontsize=18)\n",
    "    axs[i].xaxis.set_visible(False)  # Hide the axes labels for clarity\n",
    "    axs[i].yaxis.set_visible(False) "
   ]
  },
  {
   "cell_type": "markdown",
   "metadata": {},
   "source": [
    "That's close to perfect, but just a small sample of the test dataset. But not bad for just using a pretty basic neural network. How does the classifier do over the entire dataset?"
   ]
  },
  {
   "cell_type": "code",
   "execution_count": 22,
   "metadata": {
    "collapsed": false,
    "scrolled": true
   },
   "outputs": [
    {
     "name": "stdout",
     "output_type": "stream",
     "text": [
      "Training set score: 0.935600\n",
      "Test set score: 0.926000\n"
     ]
    }
   ],
   "source": [
    "# How well does the classifer perform?\n",
    "print(\"Training set score: %f\" % clf.score(X_train, y_train))\n",
    "print(\"Test set score: %f\" % clf.score(X_test, y_test))"
   ]
  },
  {
   "cell_type": "code",
   "execution_count": 23,
   "metadata": {
    "collapsed": false
   },
   "outputs": [],
   "source": [
    "# Misclassification of the test dataset\n",
    "# Get all the results in terms of success or failure\n",
    "results = [(clf.predict(X_test[i].reshape(1,-1)) == y_test[i]).all() for i in range(len(X_test))]\n",
    "# Get the index numbers of all the failures\n",
    "idx_failures = [i for i, x in enumerate(results) if x == False]\n",
    "\n",
    "# At the same time, get the index numbers of all the successful predictions\n",
    "idx_successes = [i for i, x in enumerate(results) if x == True]"
   ]
  },
  {
   "cell_type": "code",
   "execution_count": 24,
   "metadata": {
    "collapsed": false
   },
   "outputs": [
    {
     "data": {
      "text/plain": [
       "[8, 63, 111, 115, 124]"
      ]
     },
     "execution_count": 24,
     "metadata": {},
     "output_type": "execute_result"
    }
   ],
   "source": [
    "# Quick check on test images that are not classified correctly\n",
    "idx_failures[0:5]"
   ]
  },
  {
   "cell_type": "code",
   "execution_count": 122,
   "metadata": {
    "collapsed": false
   },
   "outputs": [
    {
     "name": "stdout",
     "output_type": "stream",
     "text": [
      "[[0 0 0 0 0 0 0 0 0 0]]\n",
      "[[0 0 1 1 0 0 0 0 0 0]]\n",
      "[[0 1 0 0 0 0 0 1 0 0]]\n"
     ]
    },
    {
     "data": {
      "image/png": "[encoded data removed]",
      "text/plain": [
       "<matplotlib.figure.Figure at 0x122387e10>"
      ]
     },
     "metadata": {},
     "output_type": "display_data"
    },
    {
     "data": {
      "image/png": "[encoded data removed]",
      "text/plain": [
       "<matplotlib.figure.Figure at 0x1231ff3d0>"
      ]
     },
     "metadata": {},
     "output_type": "display_data"
    },
    {
     "data": {
      "image/png": "[encoded data removed]",
      "text/plain": [
       "<matplotlib.figure.Figure at 0x123291390>"
      ]
     },
     "metadata": {},
     "output_type": "display_data"
    }
   ],
   "source": [
    "# Let's check on the misclassification for the first few failures\n",
    "for i in idx_failures[0:3]:\n",
    "    print clf.predict(X_test[i].reshape(1,-1))\n",
    "    plt.figure()\n",
    "    mnist.display(X_test[i])"
   ]
  },
  {
   "cell_type": "markdown",
   "metadata": {},
   "source": [
    "We can see the kind of mistakes the classifier is making. Let's be systematic and figure out if there's a way in which the classifier is prone to making mistakes. One way to investigate this is to look at every digit in the test set and see how the classifier fails to identify that digit. "
   ]
  },
  {
   "cell_type": "code",
   "execution_count": 26,
   "metadata": {
    "collapsed": false
   },
   "outputs": [],
   "source": [
    "# The classifier's failure patterns\n",
    "combined_errors_labels = []\n",
    "for i in idx_failures:\n",
    "    pred = clf.predict(X_test[i].reshape(1,-1))\n",
    "    pred_value = np.where(pred[0] == 1)[0]\n",
    "    if pred_value.size == 0:\n",
    "        pred_value = [10] #  NOTE: 10 means no prediction is made\n",
    "    label = y_test[i]\n",
    "    label_value = np.squeeze(np.where(label == 1)[0]) #np.squeeze to make into an integer\n",
    "    combined_values = [pred_value, label_value]\n",
    "    combined_errors_labels.append(combined_values)"
   ]
  },
  {
   "cell_type": "code",
   "execution_count": 27,
   "metadata": {
    "collapsed": true
   },
   "outputs": [],
   "source": [
    "# The classifier's success patterns\n",
    "combined_success_labels = []\n",
    "for i in idx_successes:\n",
    "    pred = clf.predict(X_test[i].reshape(1,-1))\n",
    "    pred_value = np.where(pred[0] == 1)[0]\n",
    "    # This if clause will never fire...\n",
    "    if pred_value.size == 0:\n",
    "        pred_value = [10] #  NOTE: 10 means no prediction is made\n",
    "    label = y_test[i]\n",
    "    label_value = np.squeeze(np.where(label == 1)[0]) #np.squeeze to make into an integer\n",
    "    combined_values = [pred_value, label_value]\n",
    "    combined_success_labels.append(combined_values)"
   ]
  },
  {
   "cell_type": "code",
   "execution_count": 28,
   "metadata": {
    "collapsed": false
   },
   "outputs": [
    {
     "data": {
      "text/plain": [
       "[[array([7]), array(7)],\n",
       " [array([2]), array(2)],\n",
       " [array([1]), array(1)],\n",
       " [array([0]), array(0)],\n",
       " [array([4]), array(4)]]"
      ]
     },
     "execution_count": 28,
     "metadata": {},
     "output_type": "execute_result"
    }
   ],
   "source": [
    "combined_success_labels[0:5]"
   ]
  },
  {
   "cell_type": "code",
   "execution_count": 29,
   "metadata": {
    "collapsed": false
   },
   "outputs": [],
   "source": [
    "# Get the count of successes by digit\n",
    "# NOTE: This would be much easier if the data were in a Pandas dataframe. Alas...\n",
    "# Create a list of indexed variables\n",
    "correct_classified_0 = []\n",
    "correct_classified_1 = []\n",
    "correct_classified_2 = []\n",
    "correct_classified_3 = []\n",
    "correct_classified_4 = []\n",
    "correct_classified_5 = []\n",
    "correct_classified_6 = []\n",
    "correct_classified_7 = []\n",
    "correct_classified_8 = []\n",
    "correct_classified_9 = []\n",
    "\n",
    "outcomes = ['0', '1', '2', '3', '4', '5', '6', '7', '8', '9']\n",
    "\n",
    "for i in range(len(outcomes)):\n",
    "    eval('correct_classified_'+ outcomes[i]).append(combined_success_labels.count([[i], [i]]))"
   ]
  },
  {
   "cell_type": "code",
   "execution_count": 30,
   "metadata": {
    "collapsed": false
   },
   "outputs": [
    {
     "data": {
      "text/plain": [
       "[947]"
      ]
     },
     "execution_count": 30,
     "metadata": {},
     "output_type": "execute_result"
    }
   ],
   "source": [
    "correct_classified_0"
   ]
  },
  {
   "cell_type": "code",
   "execution_count": 31,
   "metadata": {
    "collapsed": false
   },
   "outputs": [
    {
     "data": {
      "text/plain": [
       "[[[10], array(5)],\n",
       " [array([2, 3]), array(3)],\n",
       " [array([1, 7]), array(7)],\n",
       " [[10], array(4)],\n",
       " [array([4]), array(7)]]"
      ]
     },
     "execution_count": 31,
     "metadata": {},
     "output_type": "execute_result"
    }
   ],
   "source": [
    "combined_errors_labels[0:5]"
   ]
  },
  {
   "cell_type": "code",
   "execution_count": 32,
   "metadata": {
    "collapsed": false
   },
   "outputs": [
    {
     "name": "stdout",
     "output_type": "stream",
     "text": [
      "+----------------------+----------------+\n",
      "| Classfier Predicts   |   Actual Value |\n",
      "+======================+================+\n",
      "| [10]                 |              5 |\n",
      "+----------------------+----------------+\n",
      "| [2 3]                |              3 |\n",
      "+----------------------+----------------+\n",
      "| [1 7]                |              7 |\n",
      "+----------------------+----------------+\n",
      "| [10]                 |              4 |\n",
      "+----------------------+----------------+\n",
      "| [4]                  |              7 |\n",
      "+----------------------+----------------+\n",
      "| [10]                 |              4 |\n",
      "+----------------------+----------------+\n",
      "| [10]                 |              2 |\n",
      "+----------------------+----------------+\n",
      "| [8]                  |              9 |\n",
      "+----------------------+----------------+\n",
      "| [2 3]                |              3 |\n",
      "+----------------------+----------------+\n",
      "| [10]                 |              9 |\n",
      "+----------------------+----------------+\n"
     ]
    }
   ],
   "source": [
    "# NOTE: 10 means no prediction is made\n",
    "from tabulate import tabulate\n",
    "headers = ['Classfier Predicts', 'Actual Value']\n",
    "print tabulate(combined_errors_labels[0:10], tablefmt='grid', headers=headers)"
   ]
  },
  {
   "cell_type": "code",
   "execution_count": 33,
   "metadata": {
    "collapsed": false
   },
   "outputs": [],
   "source": [
    "# When the actual value is 0, 1, 2, ..., 9 what are the different ways in which the classifier misclassifies?\n",
    "\n",
    "# Create a list of indexed variables\n",
    "misclassified_0 = []\n",
    "misclassified_1 = []\n",
    "misclassified_2 = []\n",
    "misclassified_3 = []\n",
    "misclassified_4 = []\n",
    "misclassified_5 = []\n",
    "misclassified_6 = []\n",
    "misclassified_7 = []\n",
    "misclassified_8 = []\n",
    "misclassified_9 = []\n",
    "\n",
    "# error_sets = ['0', '1', '2', '3', '4', '5', '6', '7', '8', '9']\n",
    "# Use outcomes from above instead\n",
    "\n",
    "# NOTE: eval is considered dangerous - REFACTOR to eliminate\n",
    "for i in range(len(outcomes)):\n",
    "    for j in range(len(combined_errors_labels)):\n",
    "        if combined_errors_labels[j][1] == i:\n",
    "            eval('misclassified_'+ outcomes[i]).append(combined_errors_labels[j][0])"
   ]
  },
  {
   "cell_type": "code",
   "execution_count": 34,
   "metadata": {
    "collapsed": false
   },
   "outputs": [
    {
     "name": "stdout",
     "output_type": "stream",
     "text": [
      "Success rate for labeling digit 0 is 0.966327\n",
      "Success rate for labeling digit 1 is 0.974449\n",
      "Success rate for labeling digit 2 is 0.927326\n",
      "Success rate for labeling digit 3 is 0.908911\n",
      "Success rate for labeling digit 4 is 0.917515\n",
      "Success rate for labeling digit 5 is 0.891256\n",
      "Success rate for labeling digit 6 is 0.949896\n",
      "Success rate for labeling digit 7 is 0.924125\n",
      "Success rate for labeling digit 8 is 0.890144\n",
      "Success rate for labeling digit 9 is 0.900892\n"
     ]
    }
   ],
   "source": [
    "# Calculate the labeling success rate by digit\n",
    "for i in range(len(outcomes)):\n",
    "    n_correctly_classified = eval('correct_classified_'+ outcomes[i])[0]\n",
    "    n_misclassified = len(eval('misclassified_'+ outcomes[i]))\n",
    "    success_rate = n_correctly_classified/(n_correctly_classified + n_misclassified)\n",
    "    print(\"Success rate for labeling digit %i is %f\" %(i, success_rate))"
   ]
  },
  {
   "cell_type": "code",
   "execution_count": 35,
   "metadata": {
    "collapsed": false
   },
   "outputs": [
    {
     "data": {
      "text/plain": [
       "<matplotlib.text.Text at 0x11f89cc50>"
      ]
     },
     "execution_count": 35,
     "metadata": {},
     "output_type": "execute_result"
    },
    {
     "data": {
      "image/png": "[encoded data removed]",
      "text/plain": [
       "<matplotlib.figure.Figure at 0x119dbbe50>"
      ]
     },
     "metadata": {},
     "output_type": "display_data"
    }
   ],
   "source": [
    "# Histogram of how a digit is misclassified\n",
    "digit = misclassified_6\n",
    "hist_data = [item for sublist in digit for item in sublist]\n",
    "plt.hist(hist_data)\n",
    "plt.xlabel('Identified As')\n",
    "plt.ylabel('Number of Mistakes')\n",
    "plt.title('Actual Digit = 6')\n",
    "#plt.xticks(range(0,11,1))"
   ]
  },
  {
   "cell_type": "code",
   "execution_count": 36,
   "metadata": {
    "collapsed": false
   },
   "outputs": [],
   "source": [
    "# Making it easier using Sonya Sawtelle's code\n",
    "misclassified = [misclassified_0, misclassified_1, misclassified_2, \n",
    "                 misclassified_3, misclassified_4, misclassified_5, \n",
    "                 misclassified_6, misclassified_7, misclassified_8, \n",
    "                 misclassified_9]"
   ]
  },
  {
   "cell_type": "code",
   "execution_count": 37,
   "metadata": {
    "collapsed": false
   },
   "outputs": [
    {
     "data": {
      "text/plain": [
       "10"
      ]
     },
     "execution_count": 37,
     "metadata": {},
     "output_type": "execute_result"
    }
   ],
   "source": [
    "len(misclassified)"
   ]
  },
  {
   "cell_type": "code",
   "execution_count": 38,
   "metadata": {
    "collapsed": false
   },
   "outputs": [
    {
     "data": {
      "image/png": "[encoded data removed]",
      "text/plain": [
       "<matplotlib.figure.Figure at 0x11f9415d0>"
      ]
     },
     "metadata": {},
     "output_type": "display_data"
    }
   ],
   "source": [
    "# Code from Sonya Sawtelle\n",
    "fig, axs = plt.subplots(5, 2, sharex=False, sharey=True, figsize=(12,12))\n",
    "fig.suptitle(\"Misclassifications For Each Digit\", fontsize=14)\n",
    "axs = axs.flatten()\n",
    "\n",
    "for i in range(len(misclassified)):\n",
    "    ax = axs[i] # not sure what this does but it's required\n",
    "    digit = misclassified[i]\n",
    "    hist_data = [item for sublist in digit for item in sublist]\n",
    "    ax.hist(hist_data, label=(\"digit %i\" %i), bins=np.arange(1, 11, 1)+0.5)  # Shift the bins to get labels aligned\n",
    "    ax.set_xlim([0, 11])\n",
    "    #ax.xticks(range(0,11))\n",
    "    ax.legend(loc=\"upper left\")\n",
    "    ax.yaxis.set_visible(True)"
   ]
  },
  {
   "cell_type": "markdown",
   "metadata": {},
   "source": [
    "Note: When you see a digit misidentified as itself, what that means is that the classifier was unsure and made more than one guess, including a guess that it was the digit itself. Because the classifier was not sure, we count this as a misclassification.\n",
    "\n",
    "The digits 0 and 1 are the easiest to recognize while 5 and 8 seem to be confused with a wide range of other digits. 9 is also hard to discern correctly. "
   ]
  },
  {
   "cell_type": "markdown",
   "metadata": {},
   "source": [
    "## Getting Under the Hood"
   ]
  },
  {
   "cell_type": "code",
   "execution_count": 40,
   "metadata": {
    "collapsed": false
   },
   "outputs": [
    {
     "data": {
      "text/plain": [
       "[0.93559999999999999, 0.92600000000000005]"
      ]
     },
     "execution_count": 40,
     "metadata": {},
     "output_type": "execute_result"
    }
   ],
   "source": [
    "[clf.score(X_train, y_train), clf.score(X_test, y_test)]"
   ]
  },
  {
   "cell_type": "code",
   "execution_count": 41,
   "metadata": {
    "collapsed": false
   },
   "outputs": [
    {
     "data": {
      "text/plain": [
       "0.26531915606642659"
      ]
     },
     "execution_count": 41,
     "metadata": {},
     "output_type": "execute_result"
    }
   ],
   "source": [
    "clf.loss_"
   ]
  },
  {
   "cell_type": "markdown",
   "metadata": {},
   "source": [
    "### What does a neuron in a hidden layer \"see\"?"
   ]
  },
  {
   "cell_type": "code",
   "execution_count": 42,
   "metadata": {
    "collapsed": false
   },
   "outputs": [
    {
     "data": {
      "text/plain": [
       "(25, 10)"
      ]
     },
     "execution_count": 42,
     "metadata": {},
     "output_type": "execute_result"
    }
   ],
   "source": [
    "clf.coefs_[2].shape"
   ]
  },
  {
   "cell_type": "code",
   "execution_count": 140,
   "metadata": {
    "collapsed": false
   },
   "outputs": [
    {
     "data": {
      "text/plain": [
       "<matplotlib.image.AxesImage at 0x12335eed0>"
      ]
     },
     "execution_count": 140,
     "metadata": {},
     "output_type": "execute_result"
    },
    {
     "data": {
      "image/png": "[encoded data removed]",
      "text/plain": [
       "<matplotlib.figure.Figure at 0x12335e5d0>"
      ]
     },
     "metadata": {},
     "output_type": "display_data"
    }
   ],
   "source": [
    "# Pull the weights of a given neuron in a given activation layer\n",
    "# \n",
    "hidden_2 = np.transpose(clf.coefs_[1])[2]\n",
    "fig, ax = plt.subplots(1, figsize=(5,5))\n",
    "ax.imshow(np.reshape(hidden_2, (5,5)), cmap=plt.get_cmap(\"Greys\"), aspect=\"auto\", interpolation=\"nearest\")"
   ]
  },
  {
   "cell_type": "code",
   "execution_count": 44,
   "metadata": {
    "collapsed": false
   },
   "outputs": [
    {
     "data": {
      "text/plain": [
       "(25, 25)"
      ]
     },
     "execution_count": 44,
     "metadata": {},
     "output_type": "execute_result"
    }
   ],
   "source": [
    "clf.coefs_[1].shape"
   ]
  },
  {
   "cell_type": "code",
   "execution_count": 45,
   "metadata": {
    "collapsed": false
   },
   "outputs": [
    {
     "data": {
      "text/plain": [
       "(1, 784)"
      ]
     },
     "execution_count": 45,
     "metadata": {},
     "output_type": "execute_result"
    }
   ],
   "source": [
    "np.matrix(X_test[0]).shape"
   ]
  },
  {
   "cell_type": "code",
   "execution_count": 46,
   "metadata": {
    "collapsed": false
   },
   "outputs": [],
   "source": [
    "# The first hidden layer's activation values.\n",
    "# Note that the index on X_test can be any value -- it picks an image from the test dataset\n",
    "layer1_act_vals = (np.matrix(X_test[500]) * clf.coefs_[0]).T"
   ]
  },
  {
   "cell_type": "code",
   "execution_count": 47,
   "metadata": {
    "collapsed": false
   },
   "outputs": [
    {
     "data": {
      "text/plain": [
       "<matplotlib.image.AxesImage at 0x11f249410>"
      ]
     },
     "execution_count": 47,
     "metadata": {},
     "output_type": "execute_result"
    },
    {
     "data": {
      "image/png": "[encoded data removed]",
      "text/plain": [
       "<matplotlib.figure.Figure at 0x11eb1a610>"
      ]
     },
     "metadata": {},
     "output_type": "display_data"
    }
   ],
   "source": [
    "plt.imshow(layer1_act_vals.reshape(5,5))"
   ]
  },
  {
   "cell_type": "code",
   "execution_count": 48,
   "metadata": {
    "collapsed": false
   },
   "outputs": [
    {
     "data": {
      "text/plain": [
       "[array([ 0.44884535, -0.03173984,  0.47907851, -0.08172733,  0.06585324,\n",
       "         0.15411041,  0.01187391,  0.1210955 ,  0.5859002 , -0.10000026,\n",
       "         0.2905371 ,  0.5159564 ,  0.41106857,  0.00637659,  0.2881562 ,\n",
       "         0.05692012,  0.09881941,  0.20207822,  0.14413406, -0.0708535 ,\n",
       "         0.15259882,  0.01436759,  0.59164188,  0.07216036,  0.26466453]),\n",
       " array([-0.20232359,  0.60293058,  0.19948352, -0.10846509,  0.66525116,\n",
       "         0.34629489, -0.111997  , -0.40748564,  0.03488546,  0.25043184,\n",
       "         0.30256887,  0.06773141,  0.18369847, -0.12410948, -0.10126155,\n",
       "        -0.09821986, -0.20291347, -0.03038404, -0.0834194 ,  0.46070723,\n",
       "        -0.03498177, -0.06566986,  0.53044993,  0.5778768 ,  0.04539826]),\n",
       " array([-0.14634788, -0.05636235, -0.39700646, -0.1910503 , -0.4690553 ,\n",
       "        -0.06895787, -0.16054241, -0.29260899, -0.05506819,  0.07870385])]"
      ]
     },
     "execution_count": 48,
     "metadata": {},
     "output_type": "execute_result"
    }
   ],
   "source": [
    "clf.intercepts_"
   ]
  },
  {
   "cell_type": "code",
   "execution_count": 49,
   "metadata": {
    "collapsed": false
   },
   "outputs": [
    {
     "data": {
      "text/plain": [
       "<matplotlib.text.Text at 0x120cabc10>"
      ]
     },
     "execution_count": 49,
     "metadata": {},
     "output_type": "execute_result"
    },
    {
     "data": {
      "image/png": "[encoded data removed]",
      "text/plain": [
       "<matplotlib.figure.Figure at 0x120536750>"
      ]
     },
     "metadata": {},
     "output_type": "display_data"
    }
   ],
   "source": [
    "# How the input layer influences the first hidden layer\n",
    "fig, ax = plt.subplots(1, 1, figsize=(12,6))\n",
    "ax.imshow(np.transpose(clf.coefs_[0]), cmap=plt.get_cmap(\"gray\"), aspect=\"auto\")\n",
    "plt.xlabel(\"Neuron in input layer\")\n",
    "plt.ylabel(\"Neuron in first hidden layer\")\n",
    "plt.title(\"Weights $\\Theta^{(1)}$\")"
   ]
  },
  {
   "cell_type": "code",
   "execution_count": 50,
   "metadata": {
    "collapsed": false
   },
   "outputs": [
    {
     "data": {
      "text/plain": [
       "<matplotlib.text.Text at 0x121746910>"
      ]
     },
     "execution_count": 50,
     "metadata": {},
     "output_type": "execute_result"
    },
    {
     "data": {
      "image/png": "[encoded data removed]",
      "text/plain": [
       "<matplotlib.figure.Figure at 0x1215830d0>"
      ]
     },
     "metadata": {},
     "output_type": "display_data"
    }
   ],
   "source": [
    "# How the first hidden layer influences the second hidden layer\n",
    "fig, ax = plt.subplots(1, 1, figsize=(12,6))\n",
    "ax.imshow(np.transpose(clf.coefs_[1]), cmap=plt.get_cmap(\"gray\"), aspect=\"auto\")\n",
    "plt.xlabel(\"Neuron in first hidden layer\")\n",
    "plt.ylabel(\"Neuron in second hidden layer\")\n",
    "plt.title(\"Weights $\\Theta^{(2)}$\")"
   ]
  },
  {
   "cell_type": "code",
   "execution_count": 51,
   "metadata": {
    "collapsed": false
   },
   "outputs": [
    {
     "data": {
      "text/plain": [
       "<matplotlib.text.Text at 0x121a185d0>"
      ]
     },
     "execution_count": 51,
     "metadata": {},
     "output_type": "execute_result"
    },
    {
     "data": {
      "image/png": "[encoded data removed]",
      "text/plain": [
       "<matplotlib.figure.Figure at 0x121737b10>"
      ]
     },
     "metadata": {},
     "output_type": "display_data"
    }
   ],
   "source": [
    "# How the second hidden layer influences the output layer\n",
    "fig, ax = plt.subplots(1, 1, figsize=(12,6))\n",
    "ax.imshow(np.transpose(clf.coefs_[2]), cmap=plt.get_cmap(\"gray\"), aspect=\"auto\")\n",
    "plt.xlabel(\"Neuron in second hidden layer\")\n",
    "plt.ylabel(\"Neuron in the output layer\")\n",
    "plt.title(\"Weights $\\Theta^{(3)}$\")"
   ]
  },
  {
   "cell_type": "markdown",
   "metadata": {},
   "source": [
    "## Using a Neural Network on a Different Data Set\n",
    "\n",
    "Let's use the neural network on the non-linear classification problem we tackled in the Non-Linear Logistic Regression notebook. Note that it's a small data set with only 94 samples total."
   ]
  },
  {
   "cell_type": "code",
   "execution_count": 52,
   "metadata": {
    "collapsed": true
   },
   "outputs": [],
   "source": [
    "# Unpickle the file\n",
    "import cPickle as pickle\n",
    "pkl_file_path = os.getcwd() + '/Data/ex2data2.pkl'\n",
    "X2_train, X2_test, y2_train, y2_test = pickle.load( open( pkl_file_path, \"rb\" ) )"
   ]
  },
  {
   "cell_type": "code",
   "execution_count": 53,
   "metadata": {
    "collapsed": false
   },
   "outputs": [
    {
     "data": {
      "text/plain": [
       "array([[ 0.6273 ,  0.15863],\n",
       "       [ 0.63882, -0.24342],\n",
       "       [ 0.322  ,  0.5826 ]])"
      ]
     },
     "execution_count": 53,
     "metadata": {},
     "output_type": "execute_result"
    }
   ],
   "source": [
    "X2_train[0:3,:]"
   ]
  },
  {
   "cell_type": "code",
   "execution_count": 54,
   "metadata": {
    "collapsed": false
   },
   "outputs": [
    {
     "data": {
      "text/plain": [
       "array([1, 1, 1])"
      ]
     },
     "execution_count": 54,
     "metadata": {},
     "output_type": "execute_result"
    }
   ],
   "source": [
    "y2_train[0:3]"
   ]
  },
  {
   "cell_type": "markdown",
   "metadata": {},
   "source": [
    "The data set here is the one where we have two input measurements (suitably normalized) and one output. So it's a binary classifier that we need. We'll set up our neural network to reflect this structure. The nice thing is we can use the *same* hidden layer structure as before to do our work -- the classifier is smart enough to recognize and adjust for the differences in dimension of the inputs and the outputs."
   ]
  },
  {
   "cell_type": "code",
   "execution_count": 75,
   "metadata": {
    "collapsed": false
   },
   "outputs": [
    {
     "data": {
      "text/plain": [
       "MLPClassifier(activation='logistic', alpha=0.001, batch_size='auto',\n",
       "       beta_1=0.9, beta_2=0.999, early_stopping=False, epsilon=1e-08,\n",
       "       hidden_layer_sizes=(25, 25), learning_rate='constant',\n",
       "       learning_rate_init=0.001, max_iter=100, momentum=0.9,\n",
       "       nesterovs_momentum=True, power_t=0.5, random_state=1, shuffle=True,\n",
       "       solver='lbfgs', tol=0.0001, validation_fraction=0.1, verbose=False,\n",
       "       warm_start=False)"
      ]
     },
     "execution_count": 75,
     "metadata": {},
     "output_type": "execute_result"
    }
   ],
   "source": [
    "# We need a binary classifier because we have to classify results into 1 of 2 categories -- Accepted or Rejected.\n",
    "\n",
    "# As a reminder, here is the classifier we've been using for the MNIST dataset\n",
    "# **********************\n",
    "#from sklearn.neural_network import MLPClassifier\n",
    "# Hidden layers are specified as follows\n",
    "# (n1, ) means n1 units and 1 hidden layer\n",
    "# (n1, n2) means n1 units in the first hidden layer and n2 units in the second hidden layer\n",
    "# (n1, n2, n3) maeans n1 units in the first hidden layer, n2 units in the second hidden layer,\n",
    "#    and n3 units in the third hidden layer\n",
    "# Experiment with max_iter -- set it to 10, 50, 100, 200 to see how the neural network behaves\n",
    "\n",
    "# Here is our modified neural network classifier for our new dataset\n",
    "# Note that the solver is now lbfgs instead of sdg; everything else is the same\n",
    "clf2 = MLPClassifier(solver='lbfgs', alpha=1e-3, \n",
    "                       hidden_layer_sizes=(25, 25), activation='logistic', random_state=1, verbose=False, max_iter=100)\n",
    "# ***********************\n",
    "\n",
    "# We'll now fit the same classifier to the new dataset\n",
    "clf2.fit(X2_train, y2_train) "
   ]
  },
  {
   "cell_type": "code",
   "execution_count": 76,
   "metadata": {
    "collapsed": false
   },
   "outputs": [
    {
     "ename": "AttributeError",
     "evalue": "'MLPClassifier' object has no attribute 'loss_curve_'",
     "output_type": "error",
     "traceback": [
      "\u001b[0;31m---------------------------------------------------------------------------\u001b[0m",
      "\u001b[0;31mAttributeError\u001b[0m                            Traceback (most recent call last)",
      "\u001b[0;32m<ipython-input-76-d31465cf08c4>\u001b[0m in \u001b[0;36m<module>\u001b[0;34m()\u001b[0m\n\u001b[1;32m      1\u001b[0m \u001b[0;31m# How quickly is the classifier learning?\u001b[0m\u001b[0;34m\u001b[0m\u001b[0;34m\u001b[0m\u001b[0m\n\u001b[1;32m      2\u001b[0m \u001b[0mfig\u001b[0m\u001b[0;34m,\u001b[0m \u001b[0max\u001b[0m \u001b[0;34m=\u001b[0m \u001b[0mplt\u001b[0m\u001b[0;34m.\u001b[0m\u001b[0msubplots\u001b[0m\u001b[0;34m(\u001b[0m\u001b[0mfigsize\u001b[0m\u001b[0;34m=\u001b[0m\u001b[0;34m(\u001b[0m\u001b[0;36m8\u001b[0m\u001b[0;34m,\u001b[0m\u001b[0;36m5\u001b[0m\u001b[0;34m)\u001b[0m\u001b[0;34m)\u001b[0m\u001b[0;34m\u001b[0m\u001b[0m\n\u001b[0;32m----> 3\u001b[0;31m \u001b[0mplt\u001b[0m\u001b[0;34m.\u001b[0m\u001b[0mplot\u001b[0m\u001b[0;34m(\u001b[0m\u001b[0mclf2\u001b[0m\u001b[0;34m.\u001b[0m\u001b[0mloss_curve_\u001b[0m\u001b[0;34m)\u001b[0m\u001b[0;34m\u001b[0m\u001b[0m\n\u001b[0m",
      "\u001b[0;31mAttributeError\u001b[0m: 'MLPClassifier' object has no attribute 'loss_curve_'"
     ]
    },
    {
     "data": {
      "image/png": "[encoded data removed]",
      "text/plain": [
       "<matplotlib.figure.Figure at 0x1220d6fd0>"
      ]
     },
     "metadata": {},
     "output_type": "display_data"
    }
   ],
   "source": [
    "# How quickly is the classifier learning?\n",
    "# NOTE: There is no loss curve in scikit learn for the lbfgs solver\n",
    "fig, ax = plt.subplots(figsize=(8,5))\n",
    "plt.plot(clf2.loss_curve_)"
   ]
  },
  {
   "cell_type": "code",
   "execution_count": 77,
   "metadata": {
    "collapsed": false
   },
   "outputs": [
    {
     "name": "stdout",
     "output_type": "stream",
     "text": [
      "Training set score: 0.861702\n",
      "Test set score: 0.791667\n"
     ]
    }
   ],
   "source": [
    "# How well does the classifer perform?\n",
    "print(\"Training set score: %f\" % clf2.score(X2_train, y2_train))\n",
    "print(\"Test set score: %f\" % clf2.score(X2_test, y2_test))"
   ]
  },
  {
   "cell_type": "code",
   "execution_count": 78,
   "metadata": {
    "collapsed": false
   },
   "outputs": [],
   "source": [
    "# Get the predictions for the test set\n",
    "preds = clf2.predict(X2_test)"
   ]
  },
  {
   "cell_type": "code",
   "execution_count": 79,
   "metadata": {
    "collapsed": false
   },
   "outputs": [],
   "source": [
    "actual_vals = y2_test"
   ]
  },
  {
   "cell_type": "code",
   "execution_count": 142,
   "metadata": {
    "collapsed": false
   },
   "outputs": [
    {
     "data": {
      "text/plain": [
       "array([[ -6.57025316,   2.68346194,   0.28711258,  -3.88773512,\n",
       "        -10.14363128,  -1.16880082,   7.00524474,  -8.6968222 ,\n",
       "          5.07962031,  -0.07386464,   3.83456314,   9.85717302,\n",
       "         -2.64616602,   9.7510096 ,  -9.78964483,  -0.32916131,\n",
       "         -0.17690479,   6.79298204, -10.15043328,   2.12995857,\n",
       "          5.8046545 ,  -9.8877325 ,   2.58891027,   1.88405687,\n",
       "         13.91909413],\n",
       "       [ -1.37682439,   5.34852519,  -2.55094731,   2.82775377,\n",
       "         -2.18572469,   2.14075559,  -6.52705459,  -0.91595072,\n",
       "         -3.59683687,  -2.4222376 ,   1.02872404,  -2.40659159,\n",
       "         -9.02071837,   6.61333491,  -0.97416267,  -4.40310475,\n",
       "         -6.504962  ,  -3.04334077,  -1.97496958,  -2.16305082,\n",
       "         -0.52231836,   7.80187705,  -1.47104396,   4.8639376 ,\n",
       "          0.60317118]])"
      ]
     },
     "execution_count": 142,
     "metadata": {},
     "output_type": "execute_result"
    }
   ],
   "source": [
    "clf2.coefs_[0]"
   ]
  },
  {
   "cell_type": "code",
   "execution_count": 143,
   "metadata": {
    "collapsed": false
   },
   "outputs": [
    {
     "data": {
      "text/plain": [
       "array([  4.10688885, -10.17300306,   1.51602376,   4.98557139,\n",
       "        -0.79988721,  -1.21228857,  -2.20191397,   6.01843262,\n",
       "        -2.67615117,   1.08335533,   0.3000416 , -17.54485517,\n",
       "         9.47753997,   1.49824276,  11.63616736,   4.15661872,\n",
       "        11.72511025,   6.52489821,   0.61375258,   1.89542511,\n",
       "        -4.62534375,   4.19035648,   0.18387637,   2.37806404, -12.14763907])"
      ]
     },
     "execution_count": 143,
     "metadata": {},
     "output_type": "execute_result"
    }
   ],
   "source": [
    "clf2.intercepts_[0]"
   ]
  },
  {
   "cell_type": "markdown",
   "metadata": {},
   "source": [
    "### Drawing the Classifier's Boundary"
   ]
  },
  {
   "cell_type": "markdown",
   "metadata": {
    "collapsed": true
   },
   "source": [
    "We've seen that the classifer does OK -- about 80% in accuracy. Let's visualize the classifier's boundary."
   ]
  },
  {
   "cell_type": "code",
   "execution_count": 81,
   "metadata": {
    "collapsed": true
   },
   "outputs": [],
   "source": [
    "# Contour plot of the decision boundary\n",
    "# Make grid values\n",
    "xx1, xx2 = np.mgrid[-1:1.5:.02, -1:1.5:.02]"
   ]
  },
  {
   "cell_type": "code",
   "execution_count": 82,
   "metadata": {
    "collapsed": false
   },
   "outputs": [
    {
     "data": {
      "text/plain": [
       "(15625, 2)"
      ]
     },
     "execution_count": 82,
     "metadata": {},
     "output_type": "execute_result"
    }
   ],
   "source": [
    "# Create the grid\n",
    "grid = np.c_[xx1.ravel(), xx2.ravel()]\n",
    "grid.shape"
   ]
  },
  {
   "cell_type": "code",
   "execution_count": 91,
   "metadata": {
    "collapsed": false
   },
   "outputs": [
    {
     "data": {
      "text/plain": [
       "array([[-1.  , -1.  ],\n",
       "       [-1.  , -0.98],\n",
       "       [-1.  , -0.96],\n",
       "       [-1.  , -0.94]])"
      ]
     },
     "execution_count": 91,
     "metadata": {},
     "output_type": "execute_result"
    }
   ],
   "source": [
    "grid[0:4,:]"
   ]
  },
  {
   "cell_type": "code",
   "execution_count": 83,
   "metadata": {
    "collapsed": true
   },
   "outputs": [],
   "source": [
    "# Get the prediction for each grid value\n",
    "preds = clf2.predict(grid)"
   ]
  },
  {
   "cell_type": "code",
   "execution_count": 93,
   "metadata": {
    "collapsed": false
   },
   "outputs": [
    {
     "data": {
      "text/plain": [
       "(4002, 11623)"
      ]
     },
     "execution_count": 93,
     "metadata": {},
     "output_type": "execute_result"
    }
   ],
   "source": [
    "# number of ones predicted\n",
    "pred_ones = (preds != np.zeros(15625)).sum()\n",
    "\n",
    "# number of zeroes predicted\n",
    "pred_zeros = (preds == np.zeros(15625)).sum()\n",
    "\n",
    "pred_ones, pred_zeros"
   ]
  },
  {
   "cell_type": "code",
   "execution_count": 96,
   "metadata": {
    "collapsed": false
   },
   "outputs": [],
   "source": [
    "# For the test dataset, segment the Accepted from the Rejected\n",
    "accepted = []\n",
    "rejected = []\n",
    "for i in range(len(X2_test)):\n",
    "    if y2_test[i] == 1:\n",
    "        accepted.append(X2_test[i])\n",
    "    else:\n",
    "        rejected.append(X2_test[i])"
   ]
  },
  {
   "cell_type": "code",
   "execution_count": 118,
   "metadata": {
    "collapsed": false
   },
   "outputs": [
    {
     "data": {
      "text/plain": [
       "array([-0.21947 , -0.51325 ,  0.57546 ,  0.46601 ,  0.38537 , -0.17339 ,\n",
       "        0.52938 ,  0.64459 , -0.16187 ,  0.051267,  0.2932  , -0.20795 ])"
      ]
     },
     "execution_count": 118,
     "metadata": {},
     "output_type": "execute_result"
    }
   ],
   "source": [
    "np.array(accepted)[:,0]"
   ]
  },
  {
   "cell_type": "code",
   "execution_count": 120,
   "metadata": {
    "collapsed": false
   },
   "outputs": [
    {
     "data": {
      "text/plain": [
       "<matplotlib.contour.QuadContourSet at 0x122f1d390>"
      ]
     },
     "execution_count": 120,
     "metadata": {},
     "output_type": "execute_result"
    },
    {
     "data": {
      "image/png": "[encoded data removed]",
      "text/plain": [
       "<matplotlib.figure.Figure at 0x122ca2110>"
      ]
     },
     "metadata": {},
     "output_type": "display_data"
    }
   ],
   "source": [
    "#plt.contour(xx1,xx2,np.array(probs_to_binary).reshape(xx1.shape))\n",
    "fig, ax = plt.subplots(figsize=(8,5))\n",
    "ax.scatter(np.array(accepted)[:,0], np.array(accepted)[:,1], s=30, c='b', marker='s', label='Accepted')\n",
    "ax.scatter(np.array(rejected)[:,0], np.array(rejected)[:,1], s=30, c='r', marker='x', label='Rejected')\n",
    "ax.legend()\n",
    "ax.set_xlabel('Test 1 Score')\n",
    "ax.set_ylabel('Test 2 Score')\n",
    "ax.set_title('Test Dataset')\n",
    "plt.contour(xx1,xx2,preds.reshape(xx1.shape), colors='y', linewidths=0.5)"
   ]
  },
  {
   "cell_type": "markdown",
   "metadata": {},
   "source": [
    "We see that the neural network has produced a rather complex boundary even without us manufacturing any polynomials. Indeed, neural networks are great when you have a complicated non-linear boundary to draw in order to classify your dataset. But you need a lot more data for the network to become good at finding the right boundary -- the boundary that will give the best classification results."
   ]
  },
  {
   "cell_type": "code",
   "execution_count": null,
   "metadata": {
    "collapsed": true
   },
   "outputs": [],
   "source": []
  }
 ],
 "metadata": {
  "anaconda-cloud": {},
  "kernelspec": {
   "display_name": "Python [conda root]",
   "language": "python",
   "name": "conda-root-py"
  },
  "language_info": {
   "codemirror_mode": {
    "name": "ipython",
    "version": 2
   },
   "file_extension": ".py",
   "mimetype": "text/x-python",
   "name": "python",
   "nbconvert_exporter": "python",
   "pygments_lexer": "ipython2",
   "version": "2.7.13"
  }
 },
 "nbformat": 4,
 "nbformat_minor": 1
}
