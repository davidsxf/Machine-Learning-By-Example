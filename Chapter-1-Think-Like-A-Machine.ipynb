{
 "cells": [
  {
   "cell_type": "markdown",
   "metadata": {},
   "source": [
    "# Think Like a Machine - Chapter 1\n",
    "Introduction\n",
    "============"
   ]
  },
  {
   "cell_type": "markdown",
   "metadata": {},
   "source": [
    "## How Mathematicians Think\n",
    "A mathematician and a physicist are in an old cabin in the woods. With them is their MBA friend who is collecting data on how mathematicians and physicists think. The MBA poses the following problem.\n",
    "\n",
    "\"Here's a kettle, a tap with running water, a box of matches, and a functioning stove. Your task is to boil a kettle full of water. How would you do it?\"\n",
    "\n",
    "The physicist pipes up first. \"I'd fill the kettle with the water from the tap and light the stove with the match. We then wait, let's see...\", and he proceeds to calculate the time it would take for the water to boil given the barometric pressure and humidity at their location.\n",
    "\n",
    "The mathematician says, \"Yes, I'd do the same thing.\"\n",
    "\n",
    "The MBA is a bit disappointed. This is a null result and null results don't get published #@!. But then he thinks of an ingenious second experiement. He says, \"Here's an already fully filled kettle on the stove. Your task is to boil a kettle full of water. How would you do it?\"\n",
    "\n",
    "Once again, the physicist is first to answer. \"Are you joking? I'd light the stove and wait 3 minutes and 24 seconds (plus or minus 8 seconds) for the water to boil.\"\n",
    "\n",
    "The mathematician is looking out the window, completely bored by all this experimentation. He sighs, \"It's trivial...I'd just pour out the water, reducing the problem to the one that's already been solved.\""
   ]
  },
  {
   "cell_type": "markdown",
   "metadata": {},
   "source": [
    "## How Machines Think\n",
    "For his next experiment, the MBA has brought along a computer, aka a calculating machine. It's the same problem as before -- get the kettle full of water boiling. How does the machine think through this problem?"
   ]
  },
  {
   "cell_type": "markdown",
   "metadata": {},
   "source": [
    "### Step 1: Define the Input(s)\n",
    "The machine defines the input as *temperature of the tap water*. This might strike you as strange, but roll with it for the moment. The input value can take one of a range of possible values, say from 5 to 100 degrees centigrade."
   ]
  },
  {
   "cell_type": "markdown",
   "metadata": {},
   "source": [
    "### Step 2: Define the Output\n",
    "There's usually only one output. In this case its the temperature of water in a full kettle. If the kettle is not full, the output is undefined. The world is a messy place."
   ]
  },
  {
   "cell_type": "markdown",
   "metadata": {},
   "source": [
    "### Step 3: Define the Model\n",
    "The model is just a fancy way of saying the process or the way by which the input is turned into or transformed into the output. In this case, the series of steps that transform the input into the output are:\n",
    "- Fill the kettle\n",
    "- Light the match\n",
    "- Light the stove\n",
    "- Move the kettle onto the stove"
   ]
  },
  {
   "cell_type": "markdown",
   "metadata": {},
   "source": [
    "### Step 4: Define the Parameters of the Model\n",
    "The model and its parameters are closely tied. If a model gives us the structure of the transformation, the parameters specify the amount or the extent to which the input has been transformed into the output. Think of parameters as the knobs you turn to increase or decrease the amount of transformation of the input. Parameters have values; as these values change the output produced by the model changes.\n",
    "\n",
    "In this case, the paramters and their allowed values are:"
   ]
  },
  {
   "cell_type": "code",
   "execution_count": 1,
   "metadata": {
    "collapsed": false
   },
   "outputs": [
    {
     "name": "stdout",
     "output_type": "stream",
     "text": [
      "Parameter            Value 1    Value 2\n",
      "-------------------  ---------  ------------\n",
      "Kettle Water Timing  Full       Not Full\n",
      "Match                Lit        Not Lit\n",
      "Stove                Lit        Not Lit\n",
      "Kettle Position      On Stove   Not On Stove\n"
     ]
    }
   ],
   "source": [
    "from tabulate import tabulate as tabl\n",
    "params = [[\"Kettle Water Timing\", \"Full\", \"Not Full\"],\n",
    "          [\"Match\", \"Lit\", \"Not Lit\"],\n",
    "          [\"Stove\", \"Lit\", \"Not Lit\"],\n",
    "          [\"Kettle Position\", \"On Stove\", \"Not On Stove\"] \n",
    "         ]\n",
    "headers = [\"Parameter\", \"Value 1\", \"Value 2\"]\n",
    "print tabl(params, headers)"
   ]
  },
  {
   "cell_type": "markdown",
   "metadata": {},
   "source": [
    "Typically, parameter values take on a range of values -- an infinite range quite common. Even in this case, we've simplified the possible values of the Kettle Position parameter to *On Stove* and *Not On Stove*. But you could have this parameter take on the value of the three coordinates of spatial position. For the moment, we'll keep it simple."
   ]
  },
  {
   "cell_type": "markdown",
   "metadata": {},
   "source": [
    "### Step 5: Define the Cost of Getting it Wrong\n",
    "A machine goes about solving this problem by trying out a whole bunch of parameter values. To distinguish which parameter values are on the right track and which ones aren't, we need to define the cost of getting it wrong. In this case if\n",
    "- Kettle Water Level = Full\n",
    "- Match = Lit\n",
    "- Stove = Lit\n",
    "- Kettle Position = On Stove\n",
    "then the output is water boiling. We've got the parameters right. The cost of getting it wrong should now be 0.\n",
    "\n",
    "Suppose we define the cost as:\n",
    "\n",
    "Cost(parameters) = 100 - temperature of water in kettle\n",
    "\n",
    "Then the cost for our parameter values is 0. For any other set of parameter values the cost is 100 because the water cannot boil in those conditions.\n",
    "\n",
    "**The aim of thinking like a machine (machine learning) is to find the set of parameter values that minimize the cost of getting it wrong.**"
   ]
  },
  {
   "cell_type": "markdown",
   "metadata": {},
   "source": [
    "### Step 6: Pick an Iterative Method for Minimizing the Cost of Getting it Wrong\n",
    "The brute force way of minimizing the cost of getting it wrong is to try out every possible combination of parameter values. In this case we can get away with the brute force method of trying out parameter values. But even in relative simple problems the brute force method is not feasible. The method that's most commonly used is called *Gradient Descent*. We'll see the details in the next chapter.\n",
    "\n",
    "The iterative method starts with a particular set of parameter values. The cost for that set of values is calculated. Based on the properties of the cost function at this value, the next set of parameter values is chosen. How this choice is made is a property of the particular iterative method that is chosen. The cost for this next set of parameter values is now calculated and the process unfolds as it did before to choosing the next set of parameter values. The process ends when the minimum value is arrived at.\n",
    "\n",
    "The key point is that the method is iterative -- as more steps are taken, the parameter values come closer and closer to those values that will minimize the cost of getting it wrong."
   ]
  },
  {
   "cell_type": "markdown",
   "metadata": {},
   "source": [
    "### Step 7: Implement the Iterative Method\n",
    "Following steps 1 through 6 will lead the machine to the set of parameter values that minimize the cost function. This particular set of parameter values is the solution to the problem. By using this process, the machine is said to have \"learned\" the solution to the problem."
   ]
  },
  {
   "cell_type": "markdown",
   "metadata": {},
   "source": [
    "## Exercise 1-1\n",
    "Is the model described above for transforming the tap water temperature input into a boiling kettle full of water a linear model? How would you decide?"
   ]
  },
  {
   "cell_type": "markdown",
   "metadata": {
    "collapsed": true
   },
   "source": [
    "## Summary\n",
    "\n",
    "To think like a machine is to think of every problem as a (giant) optimization problem. The optimization problem is broken down into the following 7 steps.\n",
    "\n",
    "- Step 1: Define the input(s)\n",
    "- Step 2: Define the output\n",
    "- Step 3: Define the model\n",
    "- Step 4: Define the parameters of the model\n",
    "- Step 5: Define the cost of getting it wrong\n",
    "- Step 6: Pick an iterative method for minimizing the cost of getting it wrong\n",
    "- Step 7: Implement the iterative method\n",
    "\n",
    "The final step is what machines make so easy for us to do. That's where we harness the incredible computational power we have at our fingertips.\n",
    "\n",
    "Being able to set problems up as optimization problems for a computing machine is the crux of machine learning. It also shows you that human intelligence -- how to set things up to make it possible for the machine to find the optimal answer -- is a critical part of machine learning."
   ]
  }
 ],
 "metadata": {
  "anaconda-cloud": {},
  "kernelspec": {
   "display_name": "Python [conda root]",
   "language": "python",
   "name": "conda-root-py"
  },
  "language_info": {
   "codemirror_mode": {
    "name": "ipython",
    "version": 2
   },
   "file_extension": ".py",
   "mimetype": "text/x-python",
   "name": "python",
   "nbconvert_exporter": "python",
   "pygments_lexer": "ipython2",
   "version": "2.7.12"
  }
 },
 "nbformat": 4,
 "nbformat_minor": 1
}
