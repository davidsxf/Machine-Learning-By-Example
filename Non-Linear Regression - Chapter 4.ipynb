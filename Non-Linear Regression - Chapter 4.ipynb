{
 "cells": [
  {
   "cell_type": "markdown",
   "metadata": {},
   "source": [
    "# Think Like a Machine - Chapter 4\n",
    "Non-Linear Regression with Multiple Variables\n",
    "============================================="
   ]
  },
  {
   "cell_type": "markdown",
   "metadata": {},
   "source": [
    "**ACKNOWLEDGEMENT**\n",
    "\n",
    "**A lot of the code in this notebook is from John D. Wittenauer's notebooks that cover the exercises in Andrew Ng's course on Machine Learning on Coursera. This is mostly Wittenauer's and Ng's work and acknowledged as such. I've also used some code from Sebastian Raschka's book *Python Machine Learning*. **"
   ]
  },
  {
   "cell_type": "code",
   "execution_count": 1,
   "metadata": {
    "collapsed": false
   },
   "outputs": [
    {
     "name": "stderr",
     "output_type": "stream",
     "text": [
      "/Users/jsubapple/anaconda/lib/python2.7/site-packages/matplotlib/font_manager.py:273: UserWarning: Matplotlib is building the font cache using fc-list. This may take a moment.\n",
      "  warnings.warn('Matplotlib is building the font cache using fc-list. This may take a moment.')\n"
     ]
    }
   ],
   "source": [
    "# Use the functions from another notebook in this notebook\n",
    "%run SharedFunctions.ipynb"
   ]
  },
  {
   "cell_type": "code",
   "execution_count": 2,
   "metadata": {
    "collapsed": true
   },
   "outputs": [],
   "source": [
    "# Import our usual libraries\n",
    "import numpy as np\n",
    "import pandas as pd\n",
    "import matplotlib.pyplot as plt\n",
    "%matplotlib inline"
   ]
  },
  {
   "cell_type": "markdown",
   "metadata": {},
   "source": [
    "Our model in step 3 of the previous chapter has been simple. It multipled our inputs by constants (the values of $\\theta$) and added them up. That is classic linear stuff.\n",
    "\n",
    "With only a slight modification of that model we can easily extend regression to any number of variables -- even millions of them!"
   ]
  },
  {
   "cell_type": "markdown",
   "metadata": {},
   "source": [
    "## Load the Data"
   ]
  },
  {
   "cell_type": "code",
   "execution_count": 3,
   "metadata": {
    "collapsed": false
   },
   "outputs": [
    {
     "data": {
      "text/html": [
       "<div>\n",
       "<table border=\"1\" class=\"dataframe\">\n",
       "  <thead>\n",
       "    <tr style=\"text-align: right;\">\n",
       "      <th></th>\n",
       "      <th>Size</th>\n",
       "      <th>Bedrooms</th>\n",
       "      <th>Price</th>\n",
       "    </tr>\n",
       "  </thead>\n",
       "  <tbody>\n",
       "    <tr>\n",
       "      <th>0</th>\n",
       "      <td>2104</td>\n",
       "      <td>3</td>\n",
       "      <td>399900</td>\n",
       "    </tr>\n",
       "    <tr>\n",
       "      <th>1</th>\n",
       "      <td>1600</td>\n",
       "      <td>3</td>\n",
       "      <td>329900</td>\n",
       "    </tr>\n",
       "    <tr>\n",
       "      <th>2</th>\n",
       "      <td>2400</td>\n",
       "      <td>3</td>\n",
       "      <td>369000</td>\n",
       "    </tr>\n",
       "    <tr>\n",
       "      <th>3</th>\n",
       "      <td>1416</td>\n",
       "      <td>2</td>\n",
       "      <td>232000</td>\n",
       "    </tr>\n",
       "    <tr>\n",
       "      <th>4</th>\n",
       "      <td>3000</td>\n",
       "      <td>4</td>\n",
       "      <td>539900</td>\n",
       "    </tr>\n",
       "  </tbody>\n",
       "</table>\n",
       "</div>"
      ],
      "text/plain": [
       "   Size  Bedrooms   Price\n",
       "0  2104         3  399900\n",
       "1  1600         3  329900\n",
       "2  2400         3  369000\n",
       "3  1416         2  232000\n",
       "4  3000         4  539900"
      ]
     },
     "execution_count": 3,
     "metadata": {},
     "output_type": "execute_result"
    }
   ],
   "source": [
    "# Load up the housing price data we used before\n",
    "import os\n",
    "path = os.getcwd() + '/Data/ex1data2.txt'\n",
    "data2 = pd.read_csv(path, header=None, names=['Size', 'Bedrooms', 'Price'])\n",
    "data2.head()"
   ]
  },
  {
   "cell_type": "markdown",
   "metadata": {},
   "source": [
    "## Visualize the Data"
   ]
  },
  {
   "cell_type": "markdown",
   "metadata": {},
   "source": [
    "We can visualize the entire dataset as follows."
   ]
  },
  {
   "cell_type": "code",
   "execution_count": 4,
   "metadata": {
    "collapsed": false
   },
   "outputs": [
    {
     "data": {
      "image/png": "[encoded data removed]",
      "text/plain": [
       "<matplotlib.figure.Figure at 0x118247690>"
      ]
     },
     "metadata": {},
     "output_type": "display_data"
    }
   ],
   "source": [
    "import seaborn as sns\n",
    "sns.set(style='whitegrid', context='notebook')\n",
    "cols = ['Size', 'Bedrooms', 'Price']\n",
    "sns.pairplot(data2[cols], size=2.5)\n",
    "plt.show()"
   ]
  },
  {
   "cell_type": "markdown",
   "metadata": {},
   "source": [
    "### Exercise 4-1\n",
    "Based on the visuals above, how would you describe the data? Write a short paragraph describing the data."
   ]
  },
  {
   "cell_type": "markdown",
   "metadata": {},
   "source": [
    "## Use Size as the Key Variable"
   ]
  },
  {
   "cell_type": "markdown",
   "metadata": {},
   "source": [
    "Paradoxically, to demostrate how multivariate non-linear regression works, we'll strip down our original dataset into one that just has Size and Price; the Bedrooms part of the data is removed. This simplifies things so that we can easily visualize what's going on.\n",
    "\n",
    "So, to visualize things more easily, we're going to focus just on the sinlge variable -- the size of the house. We'll turn this into a multi-variable situation in just a bit."
   ]
  },
  {
   "cell_type": "code",
   "execution_count": 5,
   "metadata": {
    "collapsed": false
   },
   "outputs": [
    {
     "data": {
      "text/plain": [
       "pandas.core.frame.DataFrame"
      ]
     },
     "execution_count": 5,
     "metadata": {},
     "output_type": "execute_result"
    }
   ],
   "source": [
    "# Just checking on the type of object data2 is ... in case you've forgotten\n",
    "type(data2)"
   ]
  },
  {
   "cell_type": "code",
   "execution_count": 6,
   "metadata": {
    "collapsed": false
   },
   "outputs": [
    {
     "data": {
      "text/html": [
       "<div>\n",
       "<table border=\"1\" class=\"dataframe\">\n",
       "  <thead>\n",
       "    <tr style=\"text-align: right;\">\n",
       "      <th></th>\n",
       "      <th>Size</th>\n",
       "      <th>Price</th>\n",
       "    </tr>\n",
       "  </thead>\n",
       "  <tbody>\n",
       "    <tr>\n",
       "      <th>0</th>\n",
       "      <td>2104</td>\n",
       "      <td>399900</td>\n",
       "    </tr>\n",
       "    <tr>\n",
       "      <th>1</th>\n",
       "      <td>1600</td>\n",
       "      <td>329900</td>\n",
       "    </tr>\n",
       "    <tr>\n",
       "      <th>2</th>\n",
       "      <td>2400</td>\n",
       "      <td>369000</td>\n",
       "    </tr>\n",
       "    <tr>\n",
       "      <th>3</th>\n",
       "      <td>1416</td>\n",
       "      <td>232000</td>\n",
       "    </tr>\n",
       "    <tr>\n",
       "      <th>4</th>\n",
       "      <td>3000</td>\n",
       "      <td>539900</td>\n",
       "    </tr>\n",
       "  </tbody>\n",
       "</table>\n",
       "</div>"
      ],
      "text/plain": [
       "   Size   Price\n",
       "0  2104  399900\n",
       "1  1600  329900\n",
       "2  2400  369000\n",
       "3  1416  232000\n",
       "4  3000  539900"
      ]
     },
     "execution_count": 6,
     "metadata": {},
     "output_type": "execute_result"
    }
   ],
   "source": [
    "# First drop the Bedrooms column from the data set -- we're not going to be using it for the rest of this notebook\n",
    "data3 = data2.drop('Bedrooms', axis = 1)\n",
    "data3.head()"
   ]
  },
  {
   "cell_type": "code",
   "execution_count": 7,
   "metadata": {
    "collapsed": false
   },
   "outputs": [
    {
     "data": {
      "text/plain": [
       "<matplotlib.axes._subplots.AxesSubplot at 0x11b356810>"
      ]
     },
     "execution_count": 7,
     "metadata": {},
     "output_type": "execute_result"
    },
    {
     "data": {
      "image/png": "[encoded data removed]",
      "text/plain": [
       "<matplotlib.figure.Figure at 0x11b161690>"
      ]
     },
     "metadata": {},
     "output_type": "display_data"
    }
   ],
   "source": [
    "# Visualize this simplified data set\n",
    "data3.plot.scatter(x='Size', y='Price', figsize=(8,5))"
   ]
  },
  {
   "cell_type": "markdown",
   "metadata": {},
   "source": [
    "## How Polynomials Fit the Data"
   ]
  },
  {
   "cell_type": "markdown",
   "metadata": {},
   "source": [
    "Let's visualize the fit for various degrees of polynomial functions."
   ]
  },
  {
   "cell_type": "code",
   "execution_count": 8,
   "metadata": {
    "collapsed": false
   },
   "outputs": [
    {
     "data": {
      "text/html": [
       "<div>\n",
       "<table border=\"1\" class=\"dataframe\">\n",
       "  <thead>\n",
       "    <tr style=\"text-align: right;\">\n",
       "      <th></th>\n",
       "      <th>Size</th>\n",
       "      <th>Price</th>\n",
       "    </tr>\n",
       "  </thead>\n",
       "  <tbody>\n",
       "    <tr>\n",
       "      <th>0</th>\n",
       "      <td>0.130010</td>\n",
       "      <td>0.475747</td>\n",
       "    </tr>\n",
       "    <tr>\n",
       "      <th>1</th>\n",
       "      <td>-0.504190</td>\n",
       "      <td>-0.084074</td>\n",
       "    </tr>\n",
       "    <tr>\n",
       "      <th>2</th>\n",
       "      <td>0.502476</td>\n",
       "      <td>0.228626</td>\n",
       "    </tr>\n",
       "    <tr>\n",
       "      <th>3</th>\n",
       "      <td>-0.735723</td>\n",
       "      <td>-0.867025</td>\n",
       "    </tr>\n",
       "    <tr>\n",
       "      <th>4</th>\n",
       "      <td>1.257476</td>\n",
       "      <td>1.595389</td>\n",
       "    </tr>\n",
       "  </tbody>\n",
       "</table>\n",
       "</div>"
      ],
      "text/plain": [
       "       Size     Price\n",
       "0  0.130010  0.475747\n",
       "1 -0.504190 -0.084074\n",
       "2  0.502476  0.228626\n",
       "3 -0.735723 -0.867025\n",
       "4  1.257476  1.595389"
      ]
     },
     "execution_count": 8,
     "metadata": {},
     "output_type": "execute_result"
    }
   ],
   "source": [
    "# Because Price is about 100 times Size, first normalize the data\n",
    "data3Norm = (data3 - data3.mean()) / data3.std()\n",
    "data3Norm.head()"
   ]
  },
  {
   "cell_type": "code",
   "execution_count": 10,
   "metadata": {
    "collapsed": false
   },
   "outputs": [
    {
     "data": {
      "text/plain": [
       "[-2, 4, -1.5, 3]"
      ]
     },
     "execution_count": 10,
     "metadata": {},
     "output_type": "execute_result"
    },
    {
     "data": {
      "image/png": "[encoded data removed]",
      "text/plain": [
       "<matplotlib.figure.Figure at 0x11bee90d0>"
      ]
     },
     "metadata": {},
     "output_type": "display_data"
    }
   ],
   "source": [
    "X = data3Norm['Size']\n",
    "y = data3Norm['Price']\n",
    "\n",
    "# fit the data with a 2nd degree polynomial\n",
    "z2 = np.polyfit(X, y, 2) \n",
    "p2 = np.poly1d(z2) # construct the polynomial (note: that's a one in \"poly1d\")\n",
    "\n",
    "# fit the data with a 3rd degree polynomial\n",
    "z3 = np.polyfit(X, y, 3) \n",
    "p3 = np.poly1d(z3) # construct the polynomial\n",
    "\n",
    "# fit the data with a 4th degree polynomial\n",
    "z4 = np.polyfit(X, y, 4) \n",
    "p4 = np.poly1d(z4) # construct the polynomial\n",
    "\n",
    "# fit the data with a 8th degree polynomial - just for the heck of it :-)\n",
    "z8 = np.polyfit(X, y, 8) \n",
    "p8 = np.poly1d(z8) # construct the polynomial\n",
    "\n",
    "# fit the data with a 16th degree polynomial - just for the heck of it :-)\n",
    "z16 = np.polyfit(X, y, 16) \n",
    "p16 = np.poly1d(z16) # construct the polynomial\n",
    "\n",
    "xx = np.linspace(-2, 4, 100)\n",
    "plt.figure(figsize=(8,5))\n",
    "plt.plot(X, y, 'o', label='data')\n",
    "plt.xlabel('Size')\n",
    "plt.ylabel('Price')\n",
    "plt.plot(xx, p2(xx), 'g-', label='2nd degree poly')\n",
    "plt.plot(xx, p3(xx), 'y-', label='3rd degree poly')\n",
    "#plt.plot(xx, p4(xx), 'r-', label='4th degree poly')\n",
    "plt.plot(xx, p8(xx), 'c-', label='8th degree poly')\n",
    "#plt.plot(xx, p16(xx), 'm-', label='16th degree poly')\n",
    "plt.legend(loc=2)\n",
    "plt.axis([-2,4,-1.5,3]) # Use for higher degrees of polynomials"
   ]
  },
  {
   "cell_type": "markdown",
   "metadata": {},
   "source": [
    "## Steps 1 and 2: Define the Inputs and the Outputs"
   ]
  },
  {
   "cell_type": "code",
   "execution_count": 11,
   "metadata": {
    "collapsed": false
   },
   "outputs": [
    {
     "data": {
      "text/html": [
       "<div>\n",
       "<table border=\"1\" class=\"dataframe\">\n",
       "  <thead>\n",
       "    <tr style=\"text-align: right;\">\n",
       "      <th></th>\n",
       "      <th>x0</th>\n",
       "      <th>Size</th>\n",
       "      <th>Price</th>\n",
       "    </tr>\n",
       "  </thead>\n",
       "  <tbody>\n",
       "    <tr>\n",
       "      <th>0</th>\n",
       "      <td>1</td>\n",
       "      <td>0.130010</td>\n",
       "      <td>0.475747</td>\n",
       "    </tr>\n",
       "    <tr>\n",
       "      <th>1</th>\n",
       "      <td>1</td>\n",
       "      <td>-0.504190</td>\n",
       "      <td>-0.084074</td>\n",
       "    </tr>\n",
       "    <tr>\n",
       "      <th>2</th>\n",
       "      <td>1</td>\n",
       "      <td>0.502476</td>\n",
       "      <td>0.228626</td>\n",
       "    </tr>\n",
       "    <tr>\n",
       "      <th>3</th>\n",
       "      <td>1</td>\n",
       "      <td>-0.735723</td>\n",
       "      <td>-0.867025</td>\n",
       "    </tr>\n",
       "    <tr>\n",
       "      <th>4</th>\n",
       "      <td>1</td>\n",
       "      <td>1.257476</td>\n",
       "      <td>1.595389</td>\n",
       "    </tr>\n",
       "  </tbody>\n",
       "</table>\n",
       "</div>"
      ],
      "text/plain": [
       "   x0      Size     Price\n",
       "0   1  0.130010  0.475747\n",
       "1   1 -0.504190 -0.084074\n",
       "2   1  0.502476  0.228626\n",
       "3   1 -0.735723 -0.867025\n",
       "4   1  1.257476  1.595389"
      ]
     },
     "execution_count": 11,
     "metadata": {},
     "output_type": "execute_result"
    }
   ],
   "source": [
    "# Add a column of 1s to the X input (keeps the notation simple)\n",
    "data3Norm.insert(0,'x0',1)\n",
    "data3Norm.head()"
   ]
  },
  {
   "cell_type": "code",
   "execution_count": 12,
   "metadata": {
    "collapsed": false
   },
   "outputs": [
    {
     "data": {
      "text/html": [
       "<div>\n",
       "<table border=\"1\" class=\"dataframe\">\n",
       "  <thead>\n",
       "    <tr style=\"text-align: right;\">\n",
       "      <th></th>\n",
       "      <th>x0</th>\n",
       "      <th>Size</th>\n",
       "      <th>Size^2</th>\n",
       "      <th>Price</th>\n",
       "    </tr>\n",
       "  </thead>\n",
       "  <tbody>\n",
       "    <tr>\n",
       "      <th>0</th>\n",
       "      <td>1</td>\n",
       "      <td>0.130010</td>\n",
       "      <td>0.016903</td>\n",
       "      <td>0.475747</td>\n",
       "    </tr>\n",
       "    <tr>\n",
       "      <th>1</th>\n",
       "      <td>1</td>\n",
       "      <td>-0.504190</td>\n",
       "      <td>0.254207</td>\n",
       "      <td>-0.084074</td>\n",
       "    </tr>\n",
       "    <tr>\n",
       "      <th>2</th>\n",
       "      <td>1</td>\n",
       "      <td>0.502476</td>\n",
       "      <td>0.252482</td>\n",
       "      <td>0.228626</td>\n",
       "    </tr>\n",
       "    <tr>\n",
       "      <th>3</th>\n",
       "      <td>1</td>\n",
       "      <td>-0.735723</td>\n",
       "      <td>0.541288</td>\n",
       "      <td>-0.867025</td>\n",
       "    </tr>\n",
       "    <tr>\n",
       "      <th>4</th>\n",
       "      <td>1</td>\n",
       "      <td>1.257476</td>\n",
       "      <td>1.581246</td>\n",
       "      <td>1.595389</td>\n",
       "    </tr>\n",
       "  </tbody>\n",
       "</table>\n",
       "</div>"
      ],
      "text/plain": [
       "   x0      Size    Size^2     Price\n",
       "0   1  0.130010  0.016903  0.475747\n",
       "1   1 -0.504190  0.254207 -0.084074\n",
       "2   1  0.502476  0.252482  0.228626\n",
       "3   1 -0.735723  0.541288 -0.867025\n",
       "4   1  1.257476  1.581246  1.595389"
      ]
     },
     "execution_count": 12,
     "metadata": {},
     "output_type": "execute_result"
    }
   ],
   "source": [
    "data3Norm.insert(2,'Size^2', np.power(data3Norm['Size'],2))\n",
    "data3Norm.head()"
   ]
  },
  {
   "cell_type": "code",
   "execution_count": 13,
   "metadata": {
    "collapsed": false
   },
   "outputs": [
    {
     "data": {
      "text/html": [
       "<div>\n",
       "<table border=\"1\" class=\"dataframe\">\n",
       "  <thead>\n",
       "    <tr style=\"text-align: right;\">\n",
       "      <th></th>\n",
       "      <th>x0</th>\n",
       "      <th>Size</th>\n",
       "      <th>Size^2</th>\n",
       "      <th>Size^3</th>\n",
       "      <th>Price</th>\n",
       "    </tr>\n",
       "  </thead>\n",
       "  <tbody>\n",
       "    <tr>\n",
       "      <th>0</th>\n",
       "      <td>1</td>\n",
       "      <td>0.130010</td>\n",
       "      <td>0.016903</td>\n",
       "      <td>0.002198</td>\n",
       "      <td>0.475747</td>\n",
       "    </tr>\n",
       "    <tr>\n",
       "      <th>1</th>\n",
       "      <td>1</td>\n",
       "      <td>-0.504190</td>\n",
       "      <td>0.254207</td>\n",
       "      <td>-0.128169</td>\n",
       "      <td>-0.084074</td>\n",
       "    </tr>\n",
       "    <tr>\n",
       "      <th>2</th>\n",
       "      <td>1</td>\n",
       "      <td>0.502476</td>\n",
       "      <td>0.252482</td>\n",
       "      <td>0.126866</td>\n",
       "      <td>0.228626</td>\n",
       "    </tr>\n",
       "    <tr>\n",
       "      <th>3</th>\n",
       "      <td>1</td>\n",
       "      <td>-0.735723</td>\n",
       "      <td>0.541288</td>\n",
       "      <td>-0.398238</td>\n",
       "      <td>-0.867025</td>\n",
       "    </tr>\n",
       "    <tr>\n",
       "      <th>4</th>\n",
       "      <td>1</td>\n",
       "      <td>1.257476</td>\n",
       "      <td>1.581246</td>\n",
       "      <td>1.988379</td>\n",
       "      <td>1.595389</td>\n",
       "    </tr>\n",
       "  </tbody>\n",
       "</table>\n",
       "</div>"
      ],
      "text/plain": [
       "   x0      Size    Size^2    Size^3     Price\n",
       "0   1  0.130010  0.016903  0.002198  0.475747\n",
       "1   1 -0.504190  0.254207 -0.128169 -0.084074\n",
       "2   1  0.502476  0.252482  0.126866  0.228626\n",
       "3   1 -0.735723  0.541288 -0.398238 -0.867025\n",
       "4   1  1.257476  1.581246  1.988379  1.595389"
      ]
     },
     "execution_count": 13,
     "metadata": {},
     "output_type": "execute_result"
    }
   ],
   "source": [
    "data3Norm.insert(3,'Size^3', np.power(data3Norm['Size'],3))\n",
    "data3Norm.head()"
   ]
  },
  {
   "cell_type": "code",
   "execution_count": 14,
   "metadata": {
    "collapsed": false
   },
   "outputs": [
    {
     "data": {
      "text/html": [
       "<div>\n",
       "<table border=\"1\" class=\"dataframe\">\n",
       "  <thead>\n",
       "    <tr style=\"text-align: right;\">\n",
       "      <th></th>\n",
       "      <th>x0</th>\n",
       "      <th>Size</th>\n",
       "      <th>Size^2</th>\n",
       "      <th>Size^3</th>\n",
       "      <th>Size^4</th>\n",
       "      <th>Price</th>\n",
       "    </tr>\n",
       "  </thead>\n",
       "  <tbody>\n",
       "    <tr>\n",
       "      <th>0</th>\n",
       "      <td>1</td>\n",
       "      <td>0.130010</td>\n",
       "      <td>0.016903</td>\n",
       "      <td>0.002198</td>\n",
       "      <td>0.000286</td>\n",
       "      <td>0.475747</td>\n",
       "    </tr>\n",
       "    <tr>\n",
       "      <th>1</th>\n",
       "      <td>1</td>\n",
       "      <td>-0.504190</td>\n",
       "      <td>0.254207</td>\n",
       "      <td>-0.128169</td>\n",
       "      <td>0.064621</td>\n",
       "      <td>-0.084074</td>\n",
       "    </tr>\n",
       "    <tr>\n",
       "      <th>2</th>\n",
       "      <td>1</td>\n",
       "      <td>0.502476</td>\n",
       "      <td>0.252482</td>\n",
       "      <td>0.126866</td>\n",
       "      <td>0.063747</td>\n",
       "      <td>0.228626</td>\n",
       "    </tr>\n",
       "    <tr>\n",
       "      <th>3</th>\n",
       "      <td>1</td>\n",
       "      <td>-0.735723</td>\n",
       "      <td>0.541288</td>\n",
       "      <td>-0.398238</td>\n",
       "      <td>0.292993</td>\n",
       "      <td>-0.867025</td>\n",
       "    </tr>\n",
       "    <tr>\n",
       "      <th>4</th>\n",
       "      <td>1</td>\n",
       "      <td>1.257476</td>\n",
       "      <td>1.581246</td>\n",
       "      <td>1.988379</td>\n",
       "      <td>2.500339</td>\n",
       "      <td>1.595389</td>\n",
       "    </tr>\n",
       "  </tbody>\n",
       "</table>\n",
       "</div>"
      ],
      "text/plain": [
       "   x0      Size    Size^2    Size^3    Size^4     Price\n",
       "0   1  0.130010  0.016903  0.002198  0.000286  0.475747\n",
       "1   1 -0.504190  0.254207 -0.128169  0.064621 -0.084074\n",
       "2   1  0.502476  0.252482  0.126866  0.063747  0.228626\n",
       "3   1 -0.735723  0.541288 -0.398238  0.292993 -0.867025\n",
       "4   1  1.257476  1.581246  1.988379  2.500339  1.595389"
      ]
     },
     "execution_count": 14,
     "metadata": {},
     "output_type": "execute_result"
    }
   ],
   "source": [
    "data3Norm.insert(4,'Size^4', np.power(data3Norm['Size'],4))\n",
    "data3Norm.head()"
   ]
  },
  {
   "cell_type": "markdown",
   "metadata": {},
   "source": [
    "We now have 4 input variables -- they're various powers of the one input variable we started with. "
   ]
  },
  {
   "cell_type": "code",
   "execution_count": 15,
   "metadata": {
    "collapsed": true
   },
   "outputs": [],
   "source": [
    "X3 = data3Norm.iloc[:, 0:5]\n",
    "y3 = data3Norm.iloc[:, 5]"
   ]
  },
  {
   "cell_type": "markdown",
   "metadata": {},
   "source": [
    "## Step 3: Define the Model"
   ]
  },
  {
   "cell_type": "markdown",
   "metadata": {},
   "source": [
    "We're going to turn this one (dependent) variable data set consisting of Size values into a dataset that will be represented by a multi-variate, polynomial model. First let's define the kind of model we're interested in. In the expressions below $x$ represents the Size of a house and the model is saying that the price of the house is a polynomial function of size.\n",
    "\n",
    "Here's a second-degree polynomial model:\n",
    "Model p2 = $h_{\\theta}(x) = \\theta_{0}x_{0} + \\theta_{1}x + \\theta_{2}x^{2}$\n",
    "\n",
    "Here's a third-degree polynomial model:\n",
    "Model p3 = $h_{\\theta}(x) = \\theta_{0}x_{0} + \\theta_{1}x + \\theta_{2}x^{2} + \\theta_{3}x^3$\n",
    "\n",
    "And here's a fourth-degree polynomial model:\n",
    "Model p4 = $h_{\\theta}(x) = \\theta_{0}x_{0} + \\theta_{1}x + \\theta_{2}x^{2} + \\theta_{3}x^3 + \\theta_{4}x^4$\n",
    "\n",
    "Our models are more complicated than before, but $h_{\\theta}(x)$ is still the same calculation as before because our inputs have been transformed to represent $x^{2}$, $x^{3}$, and $x^{4}$.\n",
    "\n",
    "We'll use Model p4 for the rest of the calculations. It's a legitimate question to ask *how to decide* which model choose. We'll answer that question a few chapters later.         "
   ]
  },
  {
   "cell_type": "markdown",
   "metadata": {},
   "source": [
    "## Step 4: Define the Parameters of the Model\n",
    "$\\theta_{0}$, $\\theta_{1}$, $\\theta_{2}$, $\\theta_{3}$, and $\\theta_{4}$ are the *parameters* of the model. Unlike our example of the boiling water in Chapter 1, these parameters can each take on an infinite number of values. $\\theta_{0}$ is called the *bias value*.\n",
    "\n",
    "With this model, we know exactly how to transform an input into an output -- that is, once the values of the parameters are given.\n",
    "\n",
    "Let's pick a value of X from the dataset, fix specific values for $\\theta_{0}$, $\\theta_{1}$, $\\theta_{2}$, $\\theta_{3}$, and $\\theta_{4}$, and see what we get for the value of y.\n",
    "\n",
    "Specifically, let\n",
    "$\\begin{bmatrix}\n",
    "\\theta_{0} \\\\\n",
    "\\theta_{1} \\\\\n",
    "\\theta_{2} \\\\\n",
    "\\theta_{3} \\\\\n",
    "\\theta_{4}\n",
    "\\end{bmatrix} = \n",
    "\\begin{bmatrix}\n",
    "-10 \\\\\n",
    "1 \\\\\n",
    "0 \\\\\n",
    "5 \\\\\n",
    "-1\n",
    "\\end{bmatrix}$\n",
    "\n",
    "This means $\\theta_{0}$ is -10, $\\theta_{1}$ is 1, and so on.\n",
    "\n",
    "Let's try out X * $\\theta$ for the first few rows of X."
   ]
  },
  {
   "cell_type": "code",
   "execution_count": 16,
   "metadata": {
    "collapsed": false
   },
   "outputs": [
    {
     "data": {
      "text/plain": [
       "matrix([[ -9.85928833],\n",
       "        [-11.20965516],\n",
       "        [ -8.92693861],\n",
       "        [-13.01990813],\n",
       "        [ -1.30096852]])"
      ]
     },
     "execution_count": 16,
     "metadata": {},
     "output_type": "execute_result"
    }
   ],
   "source": [
    "# Outputs generated by our model for the first 5 inputs with the specific theta values below\n",
    "theta_test = np.matrix('-10;1;0;5;-1')\n",
    "outputs = np.matrix(X3.iloc[0:5, :]) * theta_test\n",
    "outputs"
   ]
  },
  {
   "cell_type": "code",
   "execution_count": 17,
   "metadata": {
    "collapsed": false
   },
   "outputs": [
    {
     "data": {
      "text/plain": [
       "0    0.475747\n",
       "1   -0.084074\n",
       "2    0.228626\n",
       "3   -0.867025\n",
       "4    1.595389\n",
       "Name: Price, dtype: float64"
      ]
     },
     "execution_count": 17,
     "metadata": {},
     "output_type": "execute_result"
    }
   ],
   "source": [
    "# Compare with the first few values of the output\n",
    "y3.head()"
   ]
  },
  {
   "cell_type": "markdown",
   "metadata": {},
   "source": [
    "That's quite a bit off from the actual values; so we know that the values for $\\theta$ in theta_test must be quite far from the optimal values for $\\theta$ -- the values that will minimize the cost of getting it wrong."
   ]
  },
  {
   "cell_type": "markdown",
   "metadata": {},
   "source": [
    "## Step 5: Define the Cost of Getting it Wrong\n",
    "Our cost function is exactly the same as it was before for the single variable case. \n",
    "\n",
    "The cost of getting it wrong is defined as a function $J(\\theta)$:\n",
    "\n",
    "$$J(\\theta) = \\frac{1}{2m} \\sum_{i=1}^{m} (h_{\\theta}x^{(i)}) - y^{(i)})^2$$\n",
    "\n",
    "The only difference from what we had before is the addition of the various $\\theta$s and $x$s\n",
    "\n",
    "$$h_{\\theta}(X) = \\theta_{0} * x_{0}\\ +\\ \\theta_{1} * x_{1} +\\ \\theta_{2} * x_{2} +\\ \\theta_{3} * x_{3} +\\ \\theta_{4} * x_{4}$$\n",
    "\n",
    "where $x_{2} = x_{1}^{2}$, $x_{3} = x_{1}^{3}$, and $x_{4} = x_{1}^{4}$."
   ]
  },
  {
   "cell_type": "code",
   "execution_count": 18,
   "metadata": {
    "collapsed": false
   },
   "outputs": [
    {
     "data": {
      "text/plain": [
       "5982.1359608963376"
      ]
     },
     "execution_count": 18,
     "metadata": {},
     "output_type": "execute_result"
    }
   ],
   "source": [
    "# Compute the cost for a given set of theta values over the entire dataset\n",
    "# Get X and y in to matrix form\n",
    "computeCost(np.matrix(X3.values), np.matrix(y3.values), theta_test)"
   ]
  },
  {
   "cell_type": "markdown",
   "metadata": {},
   "source": [
    "We don't know yet if this is high or low -- we'll have to try out a whole bunch of $\\theta$ values. Or better yet, we can use pick an iterative method and implement it."
   ]
  },
  {
   "cell_type": "markdown",
   "metadata": {},
   "source": [
    "## Steps 6 and 7: Pick an Iterative Method to Minimize the Cost of Getting it Wrong and Implement It\n",
    "Once again, the method that will \"learn\" the optimal values for $\\theta$ is gradient descent. We don't have to do a thing to the function we wrote before for gradient descent. Let's use it to find the minimum cost and the values of $\\theta$ that result in that minimum cost."
   ]
  },
  {
   "cell_type": "code",
   "execution_count": 19,
   "metadata": {
    "collapsed": false
   },
   "outputs": [],
   "source": [
    "theta_init = np.matrix('-1;0;1;0;-1')\n",
    "# Run gradient descent for a number of different learning rates\n",
    "alpha = 0.00001\n",
    "iters = 5000\n",
    "\n",
    "theta_opt, cost_min = gradientDescent(np.matrix(X3.values), np.matrix(y3.values), theta_init, alpha, iters)\n",
    "    "
   ]
  },
  {
   "cell_type": "code",
   "execution_count": 20,
   "metadata": {
    "collapsed": false
   },
   "outputs": [
    {
     "data": {
      "text/plain": [
       "matrix([[-0.47452231],\n",
       "        [-0.13783401],\n",
       "        [ 0.71951195],\n",
       "        [ 0.0576498 ],\n",
       "        [-0.09134312]])"
      ]
     },
     "execution_count": 20,
     "metadata": {},
     "output_type": "execute_result"
    }
   ],
   "source": [
    "# This is the value of theta for the last iteration above -- hence for alpha = 0.1\n",
    "theta_opt"
   ]
  },
  {
   "cell_type": "code",
   "execution_count": 21,
   "metadata": {
    "collapsed": false
   },
   "outputs": [
    {
     "data": {
      "text/plain": [
       "26.883851764021568"
      ]
     },
     "execution_count": 21,
     "metadata": {},
     "output_type": "execute_result"
    }
   ],
   "source": [
    "# The minimum cost\n",
    "cost_min[-1]"
   ]
  },
  {
   "cell_type": "markdown",
   "metadata": {},
   "source": [
    "## Step 8: The Results\n",
    "Let's make some predictions based on the values of $\\theta_{opt}$."
   ]
  },
  {
   "cell_type": "code",
   "execution_count": 22,
   "metadata": {
    "collapsed": false
   },
   "outputs": [],
   "source": [
    "size = 2\n",
    "size_nonnorm = (size * data3.std()[0]) + data3.mean()[0]\n",
    "price = (theta_opt[0] * 1) + (theta_opt[1] * size) + (theta_opt[2] * np.power(size,2)) + (theta_opt[3] * np.power(size,3)) + (theta_opt[4] * np.power(size,4))"
   ]
  },
  {
   "cell_type": "code",
   "execution_count": 23,
   "metadata": {
    "collapsed": false
   },
   "outputs": [
    {
     "data": {
      "text/plain": [
       "1.1275658774646542"
      ]
     },
     "execution_count": 23,
     "metadata": {},
     "output_type": "execute_result"
    }
   ],
   "source": [
    "price[0,0]"
   ]
  },
  {
   "cell_type": "code",
   "execution_count": 24,
   "metadata": {
    "collapsed": false
   },
   "outputs": [],
   "source": [
    "# Transform the price into the real price (not normalized)\n",
    "price_mean = data3.mean()[1]"
   ]
  },
  {
   "cell_type": "code",
   "execution_count": 25,
   "metadata": {
    "collapsed": true
   },
   "outputs": [],
   "source": [
    "price_std = data3.std()[1]"
   ]
  },
  {
   "cell_type": "code",
   "execution_count": 26,
   "metadata": {
    "collapsed": true
   },
   "outputs": [],
   "source": [
    "price_pred = (price[0,0] * price_std) + price_mean"
   ]
  },
  {
   "cell_type": "code",
   "execution_count": 27,
   "metadata": {
    "collapsed": false
   },
   "outputs": [
    {
     "data": {
      "text/plain": [
       "481403.38366970059"
      ]
     },
     "execution_count": 27,
     "metadata": {},
     "output_type": "execute_result"
    }
   ],
   "source": [
    "price_pred"
   ]
  },
  {
   "cell_type": "code",
   "execution_count": 28,
   "metadata": {
    "collapsed": false
   },
   "outputs": [
    {
     "data": {
      "text/plain": [
       "3590.0855581316091"
      ]
     },
     "execution_count": 28,
     "metadata": {},
     "output_type": "execute_result"
    }
   ],
   "source": [
    "size_nonnorm"
   ]
  },
  {
   "cell_type": "code",
   "execution_count": null,
   "metadata": {
    "collapsed": true
   },
   "outputs": [],
   "source": []
  }
 ],
 "metadata": {
  "anaconda-cloud": {},
  "kernelspec": {
   "display_name": "Python [conda root]",
   "language": "python",
   "name": "conda-root-py"
  },
  "language_info": {
   "codemirror_mode": {
    "name": "ipython",
    "version": 2
   },
   "file_extension": ".py",
   "mimetype": "text/x-python",
   "name": "python",
   "nbconvert_exporter": "python",
   "pygments_lexer": "ipython2",
   "version": "2.7.12"
  }
 },
 "nbformat": 4,
 "nbformat_minor": 1
}
